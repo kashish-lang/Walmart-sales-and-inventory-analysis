{
  "nbformat": 4,
  "nbformat_minor": 0,
  "metadata": {
    "colab": {
      "provenance": [],
      "authorship_tag": "ABX9TyMRzAad39gfA3pgO1513x1g",
      "include_colab_link": true
    },
    "kernelspec": {
      "name": "python3",
      "display_name": "Python 3"
    },
    "language_info": {
      "name": "python"
    }
  },
  "cells": [
    {
      "cell_type": "markdown",
      "metadata": {
        "id": "view-in-github",
        "colab_type": "text"
      },
      "source": [
        "<a href=\"https://colab.research.google.com/github/kashish-lang/Walmart-sales-and-inventory-analysis/blob/main/Walmart.ipynb\" target=\"_parent\"><img src=\"https://colab.research.google.com/assets/colab-badge.svg\" alt=\"Open In Colab\"/></a>"
      ]
    },
    {
      "cell_type": "markdown",
      "source": [
        "#1 ) Import the dataset and do usual data analysis steps like checking the structure & characteristics of the dataset."
      ],
      "metadata": {
        "id": "UoqD7EzcjUgv"
      }
    },
    {
      "cell_type": "code",
      "execution_count": null,
      "metadata": {
        "id": "ACtViNiu0SbN"
      },
      "outputs": [],
      "source": [
        "import numpy  as np\n",
        "import pandas as pd\n",
        "import seaborn as sns\n",
        "import matplotlib.pyplot as plt"
      ]
    },
    {
      "cell_type": "code",
      "source": [
        "df = pd.read_csv('walmart_data.csv')"
      ],
      "metadata": {
        "id": "LpbEeBtE0p90"
      },
      "execution_count": null,
      "outputs": []
    },
    {
      "cell_type": "code",
      "source": [
        "df"
      ],
      "metadata": {
        "colab": {
          "base_uri": "https://localhost:8080/",
          "height": 423
        },
        "id": "VJ240FNS0vj5",
        "outputId": "a451415c-0694-4f76-c466-e2810abb99a7"
      },
      "execution_count": null,
      "outputs": [
        {
          "output_type": "execute_result",
          "data": {
            "text/plain": [
              "       User_ID Product_ID Gender    Age  Occupation City_Category  \\\n",
              "0      1000001  P00069042      F   0-17        10.0             A   \n",
              "1      1000001  P00248942      F   0-17        10.0             A   \n",
              "2      1000001  P00087842      F   0-17        10.0             A   \n",
              "3      1000001  P00085442      F   0-17        10.0             A   \n",
              "4      1000002  P00285442      M    55+        16.0             C   \n",
              "...        ...        ...    ...    ...         ...           ...   \n",
              "75128  1005575  P00176942      M  36-45         7.0             C   \n",
              "75129  1005575  P00189242      M  36-45         7.0             C   \n",
              "75130  1005575  P00077942      M  36-45         7.0             C   \n",
              "75131  1005575  P00258842      M  36-45         7.0             C   \n",
              "75132  1005575    P002163    NaN    NaN         NaN           NaN   \n",
              "\n",
              "      Stay_In_Current_City_Years  Marital_Status  Product_Category  Purchase  \n",
              "0                              2             0.0               3.0    8370.0  \n",
              "1                              2             0.0               1.0   15200.0  \n",
              "2                              2             0.0              12.0    1422.0  \n",
              "3                              2             0.0              12.0    1057.0  \n",
              "4                             4+             0.0               8.0    7969.0  \n",
              "...                          ...             ...               ...       ...  \n",
              "75128                          2             0.0               5.0    1972.0  \n",
              "75129                          2             0.0               5.0    5425.0  \n",
              "75130                          2             0.0               5.0    5198.0  \n",
              "75131                          2             0.0               5.0    5430.0  \n",
              "75132                        NaN             NaN               NaN       NaN  \n",
              "\n",
              "[75133 rows x 10 columns]"
            ],
            "text/html": [
              "\n",
              "  <div id=\"df-37120d54-c3a9-4db1-8b71-d622e5d25441\" class=\"colab-df-container\">\n",
              "    <div>\n",
              "<style scoped>\n",
              "    .dataframe tbody tr th:only-of-type {\n",
              "        vertical-align: middle;\n",
              "    }\n",
              "\n",
              "    .dataframe tbody tr th {\n",
              "        vertical-align: top;\n",
              "    }\n",
              "\n",
              "    .dataframe thead th {\n",
              "        text-align: right;\n",
              "    }\n",
              "</style>\n",
              "<table border=\"1\" class=\"dataframe\">\n",
              "  <thead>\n",
              "    <tr style=\"text-align: right;\">\n",
              "      <th></th>\n",
              "      <th>User_ID</th>\n",
              "      <th>Product_ID</th>\n",
              "      <th>Gender</th>\n",
              "      <th>Age</th>\n",
              "      <th>Occupation</th>\n",
              "      <th>City_Category</th>\n",
              "      <th>Stay_In_Current_City_Years</th>\n",
              "      <th>Marital_Status</th>\n",
              "      <th>Product_Category</th>\n",
              "      <th>Purchase</th>\n",
              "    </tr>\n",
              "  </thead>\n",
              "  <tbody>\n",
              "    <tr>\n",
              "      <th>0</th>\n",
              "      <td>1000001</td>\n",
              "      <td>P00069042</td>\n",
              "      <td>F</td>\n",
              "      <td>0-17</td>\n",
              "      <td>10.0</td>\n",
              "      <td>A</td>\n",
              "      <td>2</td>\n",
              "      <td>0.0</td>\n",
              "      <td>3.0</td>\n",
              "      <td>8370.0</td>\n",
              "    </tr>\n",
              "    <tr>\n",
              "      <th>1</th>\n",
              "      <td>1000001</td>\n",
              "      <td>P00248942</td>\n",
              "      <td>F</td>\n",
              "      <td>0-17</td>\n",
              "      <td>10.0</td>\n",
              "      <td>A</td>\n",
              "      <td>2</td>\n",
              "      <td>0.0</td>\n",
              "      <td>1.0</td>\n",
              "      <td>15200.0</td>\n",
              "    </tr>\n",
              "    <tr>\n",
              "      <th>2</th>\n",
              "      <td>1000001</td>\n",
              "      <td>P00087842</td>\n",
              "      <td>F</td>\n",
              "      <td>0-17</td>\n",
              "      <td>10.0</td>\n",
              "      <td>A</td>\n",
              "      <td>2</td>\n",
              "      <td>0.0</td>\n",
              "      <td>12.0</td>\n",
              "      <td>1422.0</td>\n",
              "    </tr>\n",
              "    <tr>\n",
              "      <th>3</th>\n",
              "      <td>1000001</td>\n",
              "      <td>P00085442</td>\n",
              "      <td>F</td>\n",
              "      <td>0-17</td>\n",
              "      <td>10.0</td>\n",
              "      <td>A</td>\n",
              "      <td>2</td>\n",
              "      <td>0.0</td>\n",
              "      <td>12.0</td>\n",
              "      <td>1057.0</td>\n",
              "    </tr>\n",
              "    <tr>\n",
              "      <th>4</th>\n",
              "      <td>1000002</td>\n",
              "      <td>P00285442</td>\n",
              "      <td>M</td>\n",
              "      <td>55+</td>\n",
              "      <td>16.0</td>\n",
              "      <td>C</td>\n",
              "      <td>4+</td>\n",
              "      <td>0.0</td>\n",
              "      <td>8.0</td>\n",
              "      <td>7969.0</td>\n",
              "    </tr>\n",
              "    <tr>\n",
              "      <th>...</th>\n",
              "      <td>...</td>\n",
              "      <td>...</td>\n",
              "      <td>...</td>\n",
              "      <td>...</td>\n",
              "      <td>...</td>\n",
              "      <td>...</td>\n",
              "      <td>...</td>\n",
              "      <td>...</td>\n",
              "      <td>...</td>\n",
              "      <td>...</td>\n",
              "    </tr>\n",
              "    <tr>\n",
              "      <th>75128</th>\n",
              "      <td>1005575</td>\n",
              "      <td>P00176942</td>\n",
              "      <td>M</td>\n",
              "      <td>36-45</td>\n",
              "      <td>7.0</td>\n",
              "      <td>C</td>\n",
              "      <td>2</td>\n",
              "      <td>0.0</td>\n",
              "      <td>5.0</td>\n",
              "      <td>1972.0</td>\n",
              "    </tr>\n",
              "    <tr>\n",
              "      <th>75129</th>\n",
              "      <td>1005575</td>\n",
              "      <td>P00189242</td>\n",
              "      <td>M</td>\n",
              "      <td>36-45</td>\n",
              "      <td>7.0</td>\n",
              "      <td>C</td>\n",
              "      <td>2</td>\n",
              "      <td>0.0</td>\n",
              "      <td>5.0</td>\n",
              "      <td>5425.0</td>\n",
              "    </tr>\n",
              "    <tr>\n",
              "      <th>75130</th>\n",
              "      <td>1005575</td>\n",
              "      <td>P00077942</td>\n",
              "      <td>M</td>\n",
              "      <td>36-45</td>\n",
              "      <td>7.0</td>\n",
              "      <td>C</td>\n",
              "      <td>2</td>\n",
              "      <td>0.0</td>\n",
              "      <td>5.0</td>\n",
              "      <td>5198.0</td>\n",
              "    </tr>\n",
              "    <tr>\n",
              "      <th>75131</th>\n",
              "      <td>1005575</td>\n",
              "      <td>P00258842</td>\n",
              "      <td>M</td>\n",
              "      <td>36-45</td>\n",
              "      <td>7.0</td>\n",
              "      <td>C</td>\n",
              "      <td>2</td>\n",
              "      <td>0.0</td>\n",
              "      <td>5.0</td>\n",
              "      <td>5430.0</td>\n",
              "    </tr>\n",
              "    <tr>\n",
              "      <th>75132</th>\n",
              "      <td>1005575</td>\n",
              "      <td>P002163</td>\n",
              "      <td>NaN</td>\n",
              "      <td>NaN</td>\n",
              "      <td>NaN</td>\n",
              "      <td>NaN</td>\n",
              "      <td>NaN</td>\n",
              "      <td>NaN</td>\n",
              "      <td>NaN</td>\n",
              "      <td>NaN</td>\n",
              "    </tr>\n",
              "  </tbody>\n",
              "</table>\n",
              "<p>75133 rows × 10 columns</p>\n",
              "</div>\n",
              "    <div class=\"colab-df-buttons\">\n",
              "\n",
              "  <div class=\"colab-df-container\">\n",
              "    <button class=\"colab-df-convert\" onclick=\"convertToInteractive('df-37120d54-c3a9-4db1-8b71-d622e5d25441')\"\n",
              "            title=\"Convert this dataframe to an interactive table.\"\n",
              "            style=\"display:none;\">\n",
              "\n",
              "  <svg xmlns=\"http://www.w3.org/2000/svg\" height=\"24px\" viewBox=\"0 -960 960 960\">\n",
              "    <path d=\"M120-120v-720h720v720H120Zm60-500h600v-160H180v160Zm220 220h160v-160H400v160Zm0 220h160v-160H400v160ZM180-400h160v-160H180v160Zm440 0h160v-160H620v160ZM180-180h160v-160H180v160Zm440 0h160v-160H620v160Z\"/>\n",
              "  </svg>\n",
              "    </button>\n",
              "\n",
              "  <style>\n",
              "    .colab-df-container {\n",
              "      display:flex;\n",
              "      gap: 12px;\n",
              "    }\n",
              "\n",
              "    .colab-df-convert {\n",
              "      background-color: #E8F0FE;\n",
              "      border: none;\n",
              "      border-radius: 50%;\n",
              "      cursor: pointer;\n",
              "      display: none;\n",
              "      fill: #1967D2;\n",
              "      height: 32px;\n",
              "      padding: 0 0 0 0;\n",
              "      width: 32px;\n",
              "    }\n",
              "\n",
              "    .colab-df-convert:hover {\n",
              "      background-color: #E2EBFA;\n",
              "      box-shadow: 0px 1px 2px rgba(60, 64, 67, 0.3), 0px 1px 3px 1px rgba(60, 64, 67, 0.15);\n",
              "      fill: #174EA6;\n",
              "    }\n",
              "\n",
              "    .colab-df-buttons div {\n",
              "      margin-bottom: 4px;\n",
              "    }\n",
              "\n",
              "    [theme=dark] .colab-df-convert {\n",
              "      background-color: #3B4455;\n",
              "      fill: #D2E3FC;\n",
              "    }\n",
              "\n",
              "    [theme=dark] .colab-df-convert:hover {\n",
              "      background-color: #434B5C;\n",
              "      box-shadow: 0px 1px 3px 1px rgba(0, 0, 0, 0.15);\n",
              "      filter: drop-shadow(0px 1px 2px rgba(0, 0, 0, 0.3));\n",
              "      fill: #FFFFFF;\n",
              "    }\n",
              "  </style>\n",
              "\n",
              "    <script>\n",
              "      const buttonEl =\n",
              "        document.querySelector('#df-37120d54-c3a9-4db1-8b71-d622e5d25441 button.colab-df-convert');\n",
              "      buttonEl.style.display =\n",
              "        google.colab.kernel.accessAllowed ? 'block' : 'none';\n",
              "\n",
              "      async function convertToInteractive(key) {\n",
              "        const element = document.querySelector('#df-37120d54-c3a9-4db1-8b71-d622e5d25441');\n",
              "        const dataTable =\n",
              "          await google.colab.kernel.invokeFunction('convertToInteractive',\n",
              "                                                    [key], {});\n",
              "        if (!dataTable) return;\n",
              "\n",
              "        const docLinkHtml = 'Like what you see? Visit the ' +\n",
              "          '<a target=\"_blank\" href=https://colab.research.google.com/notebooks/data_table.ipynb>data table notebook</a>'\n",
              "          + ' to learn more about interactive tables.';\n",
              "        element.innerHTML = '';\n",
              "        dataTable['output_type'] = 'display_data';\n",
              "        await google.colab.output.renderOutput(dataTable, element);\n",
              "        const docLink = document.createElement('div');\n",
              "        docLink.innerHTML = docLinkHtml;\n",
              "        element.appendChild(docLink);\n",
              "      }\n",
              "    </script>\n",
              "  </div>\n",
              "\n",
              "\n",
              "<div id=\"df-4008ae75-b711-492b-afc4-2ca6badc8e8c\">\n",
              "  <button class=\"colab-df-quickchart\" onclick=\"quickchart('df-4008ae75-b711-492b-afc4-2ca6badc8e8c')\"\n",
              "            title=\"Suggest charts\"\n",
              "            style=\"display:none;\">\n",
              "\n",
              "<svg xmlns=\"http://www.w3.org/2000/svg\" height=\"24px\"viewBox=\"0 0 24 24\"\n",
              "     width=\"24px\">\n",
              "    <g>\n",
              "        <path d=\"M19 3H5c-1.1 0-2 .9-2 2v14c0 1.1.9 2 2 2h14c1.1 0 2-.9 2-2V5c0-1.1-.9-2-2-2zM9 17H7v-7h2v7zm4 0h-2V7h2v10zm4 0h-2v-4h2v4z\"/>\n",
              "    </g>\n",
              "</svg>\n",
              "  </button>\n",
              "\n",
              "<style>\n",
              "  .colab-df-quickchart {\n",
              "      --bg-color: #E8F0FE;\n",
              "      --fill-color: #1967D2;\n",
              "      --hover-bg-color: #E2EBFA;\n",
              "      --hover-fill-color: #174EA6;\n",
              "      --disabled-fill-color: #AAA;\n",
              "      --disabled-bg-color: #DDD;\n",
              "  }\n",
              "\n",
              "  [theme=dark] .colab-df-quickchart {\n",
              "      --bg-color: #3B4455;\n",
              "      --fill-color: #D2E3FC;\n",
              "      --hover-bg-color: #434B5C;\n",
              "      --hover-fill-color: #FFFFFF;\n",
              "      --disabled-bg-color: #3B4455;\n",
              "      --disabled-fill-color: #666;\n",
              "  }\n",
              "\n",
              "  .colab-df-quickchart {\n",
              "    background-color: var(--bg-color);\n",
              "    border: none;\n",
              "    border-radius: 50%;\n",
              "    cursor: pointer;\n",
              "    display: none;\n",
              "    fill: var(--fill-color);\n",
              "    height: 32px;\n",
              "    padding: 0;\n",
              "    width: 32px;\n",
              "  }\n",
              "\n",
              "  .colab-df-quickchart:hover {\n",
              "    background-color: var(--hover-bg-color);\n",
              "    box-shadow: 0 1px 2px rgba(60, 64, 67, 0.3), 0 1px 3px 1px rgba(60, 64, 67, 0.15);\n",
              "    fill: var(--button-hover-fill-color);\n",
              "  }\n",
              "\n",
              "  .colab-df-quickchart-complete:disabled,\n",
              "  .colab-df-quickchart-complete:disabled:hover {\n",
              "    background-color: var(--disabled-bg-color);\n",
              "    fill: var(--disabled-fill-color);\n",
              "    box-shadow: none;\n",
              "  }\n",
              "\n",
              "  .colab-df-spinner {\n",
              "    border: 2px solid var(--fill-color);\n",
              "    border-color: transparent;\n",
              "    border-bottom-color: var(--fill-color);\n",
              "    animation:\n",
              "      spin 1s steps(1) infinite;\n",
              "  }\n",
              "\n",
              "  @keyframes spin {\n",
              "    0% {\n",
              "      border-color: transparent;\n",
              "      border-bottom-color: var(--fill-color);\n",
              "      border-left-color: var(--fill-color);\n",
              "    }\n",
              "    20% {\n",
              "      border-color: transparent;\n",
              "      border-left-color: var(--fill-color);\n",
              "      border-top-color: var(--fill-color);\n",
              "    }\n",
              "    30% {\n",
              "      border-color: transparent;\n",
              "      border-left-color: var(--fill-color);\n",
              "      border-top-color: var(--fill-color);\n",
              "      border-right-color: var(--fill-color);\n",
              "    }\n",
              "    40% {\n",
              "      border-color: transparent;\n",
              "      border-right-color: var(--fill-color);\n",
              "      border-top-color: var(--fill-color);\n",
              "    }\n",
              "    60% {\n",
              "      border-color: transparent;\n",
              "      border-right-color: var(--fill-color);\n",
              "    }\n",
              "    80% {\n",
              "      border-color: transparent;\n",
              "      border-right-color: var(--fill-color);\n",
              "      border-bottom-color: var(--fill-color);\n",
              "    }\n",
              "    90% {\n",
              "      border-color: transparent;\n",
              "      border-bottom-color: var(--fill-color);\n",
              "    }\n",
              "  }\n",
              "</style>\n",
              "\n",
              "  <script>\n",
              "    async function quickchart(key) {\n",
              "      const quickchartButtonEl =\n",
              "        document.querySelector('#' + key + ' button');\n",
              "      quickchartButtonEl.disabled = true;  // To prevent multiple clicks.\n",
              "      quickchartButtonEl.classList.add('colab-df-spinner');\n",
              "      try {\n",
              "        const charts = await google.colab.kernel.invokeFunction(\n",
              "            'suggestCharts', [key], {});\n",
              "      } catch (error) {\n",
              "        console.error('Error during call to suggestCharts:', error);\n",
              "      }\n",
              "      quickchartButtonEl.classList.remove('colab-df-spinner');\n",
              "      quickchartButtonEl.classList.add('colab-df-quickchart-complete');\n",
              "    }\n",
              "    (() => {\n",
              "      let quickchartButtonEl =\n",
              "        document.querySelector('#df-4008ae75-b711-492b-afc4-2ca6badc8e8c button');\n",
              "      quickchartButtonEl.style.display =\n",
              "        google.colab.kernel.accessAllowed ? 'block' : 'none';\n",
              "    })();\n",
              "  </script>\n",
              "</div>\n",
              "\n",
              "  <div id=\"id_9708ef05-9f03-4df1-9cb2-c9dc883205b0\">\n",
              "    <style>\n",
              "      .colab-df-generate {\n",
              "        background-color: #E8F0FE;\n",
              "        border: none;\n",
              "        border-radius: 50%;\n",
              "        cursor: pointer;\n",
              "        display: none;\n",
              "        fill: #1967D2;\n",
              "        height: 32px;\n",
              "        padding: 0 0 0 0;\n",
              "        width: 32px;\n",
              "      }\n",
              "\n",
              "      .colab-df-generate:hover {\n",
              "        background-color: #E2EBFA;\n",
              "        box-shadow: 0px 1px 2px rgba(60, 64, 67, 0.3), 0px 1px 3px 1px rgba(60, 64, 67, 0.15);\n",
              "        fill: #174EA6;\n",
              "      }\n",
              "\n",
              "      [theme=dark] .colab-df-generate {\n",
              "        background-color: #3B4455;\n",
              "        fill: #D2E3FC;\n",
              "      }\n",
              "\n",
              "      [theme=dark] .colab-df-generate:hover {\n",
              "        background-color: #434B5C;\n",
              "        box-shadow: 0px 1px 3px 1px rgba(0, 0, 0, 0.15);\n",
              "        filter: drop-shadow(0px 1px 2px rgba(0, 0, 0, 0.3));\n",
              "        fill: #FFFFFF;\n",
              "      }\n",
              "    </style>\n",
              "    <button class=\"colab-df-generate\" onclick=\"generateWithVariable('df')\"\n",
              "            title=\"Generate code using this dataframe.\"\n",
              "            style=\"display:none;\">\n",
              "\n",
              "  <svg xmlns=\"http://www.w3.org/2000/svg\" height=\"24px\"viewBox=\"0 0 24 24\"\n",
              "       width=\"24px\">\n",
              "    <path d=\"M7,19H8.4L18.45,9,17,7.55,7,17.6ZM5,21V16.75L18.45,3.32a2,2,0,0,1,2.83,0l1.4,1.43a1.91,1.91,0,0,1,.58,1.4,1.91,1.91,0,0,1-.58,1.4L9.25,21ZM18.45,9,17,7.55Zm-12,3A5.31,5.31,0,0,0,4.9,8.1,5.31,5.31,0,0,0,1,6.5,5.31,5.31,0,0,0,4.9,4.9,5.31,5.31,0,0,0,6.5,1,5.31,5.31,0,0,0,8.1,4.9,5.31,5.31,0,0,0,12,6.5,5.46,5.46,0,0,0,6.5,12Z\"/>\n",
              "  </svg>\n",
              "    </button>\n",
              "    <script>\n",
              "      (() => {\n",
              "      const buttonEl =\n",
              "        document.querySelector('#id_9708ef05-9f03-4df1-9cb2-c9dc883205b0 button.colab-df-generate');\n",
              "      buttonEl.style.display =\n",
              "        google.colab.kernel.accessAllowed ? 'block' : 'none';\n",
              "\n",
              "      buttonEl.onclick = () => {\n",
              "        google.colab.notebook.generateWithVariable('df');\n",
              "      }\n",
              "      })();\n",
              "    </script>\n",
              "  </div>\n",
              "\n",
              "    </div>\n",
              "  </div>\n"
            ],
            "application/vnd.google.colaboratory.intrinsic+json": {
              "type": "dataframe",
              "variable_name": "df",
              "summary": "{\n  \"name\": \"df\",\n  \"rows\": 75133,\n  \"fields\": [\n    {\n      \"column\": \"User_ID\",\n      \"properties\": {\n        \"dtype\": \"number\",\n        \"std\": 1671,\n        \"min\": 1000001,\n        \"max\": 1006040,\n        \"num_unique_values\": 5692,\n        \"samples\": [\n          1001619,\n          1000842,\n          1003928\n        ],\n        \"semantic_type\": \"\",\n        \"description\": \"\"\n      }\n    },\n    {\n      \"column\": \"Product_ID\",\n      \"properties\": {\n        \"dtype\": \"category\",\n        \"num_unique_values\": 3229,\n        \"samples\": [\n          \"P00059442\",\n          \"P00232542\",\n          \"P00026342\"\n        ],\n        \"semantic_type\": \"\",\n        \"description\": \"\"\n      }\n    },\n    {\n      \"column\": \"Gender\",\n      \"properties\": {\n        \"dtype\": \"category\",\n        \"num_unique_values\": 2,\n        \"samples\": [\n          \"M\",\n          \"F\"\n        ],\n        \"semantic_type\": \"\",\n        \"description\": \"\"\n      }\n    },\n    {\n      \"column\": \"Age\",\n      \"properties\": {\n        \"dtype\": \"category\",\n        \"num_unique_values\": 7,\n        \"samples\": [\n          \"0-17\",\n          \"55+\"\n        ],\n        \"semantic_type\": \"\",\n        \"description\": \"\"\n      }\n    },\n    {\n      \"column\": \"Occupation\",\n      \"properties\": {\n        \"dtype\": \"number\",\n        \"std\": 6.5147215866040735,\n        \"min\": 0.0,\n        \"max\": 20.0,\n        \"num_unique_values\": 21,\n        \"samples\": [\n          10.0,\n          5.0\n        ],\n        \"semantic_type\": \"\",\n        \"description\": \"\"\n      }\n    },\n    {\n      \"column\": \"City_Category\",\n      \"properties\": {\n        \"dtype\": \"category\",\n        \"num_unique_values\": 3,\n        \"samples\": [\n          \"A\",\n          \"C\"\n        ],\n        \"semantic_type\": \"\",\n        \"description\": \"\"\n      }\n    },\n    {\n      \"column\": \"Stay_In_Current_City_Years\",\n      \"properties\": {\n        \"dtype\": \"category\",\n        \"num_unique_values\": 5,\n        \"samples\": [\n          \"4+\",\n          \"0\"\n        ],\n        \"semantic_type\": \"\",\n        \"description\": \"\"\n      }\n    },\n    {\n      \"column\": \"Marital_Status\",\n      \"properties\": {\n        \"dtype\": \"number\",\n        \"std\": 0.4912662346996891,\n        \"min\": 0.0,\n        \"max\": 1.0,\n        \"num_unique_values\": 2,\n        \"samples\": [\n          1.0,\n          0.0\n        ],\n        \"semantic_type\": \"\",\n        \"description\": \"\"\n      }\n    },\n    {\n      \"column\": \"Product_Category\",\n      \"properties\": {\n        \"dtype\": \"number\",\n        \"std\": 3.7285013636087454,\n        \"min\": 1.0,\n        \"max\": 18.0,\n        \"num_unique_values\": 18,\n        \"samples\": [\n          3.0,\n          1.0\n        ],\n        \"semantic_type\": \"\",\n        \"description\": \"\"\n      }\n    },\n    {\n      \"column\": \"Purchase\",\n      \"properties\": {\n        \"dtype\": \"number\",\n        \"std\": 4965.135617108756,\n        \"min\": 185.0,\n        \"max\": 23958.0,\n        \"num_unique_values\": 13038,\n        \"samples\": [\n          7637.0,\n          15305.0\n        ],\n        \"semantic_type\": \"\",\n        \"description\": \"\"\n      }\n    }\n  ]\n}"
            }
          },
          "metadata": {},
          "execution_count": 3
        }
      ]
    },
    {
      "cell_type": "code",
      "source": [
        "df.shape"
      ],
      "metadata": {
        "id": "AaOPVG5A0zql",
        "colab": {
          "base_uri": "https://localhost:8080/"
        },
        "outputId": "6c169a9c-d9b0-4f79-ed98-e65a0b21b2d1"
      },
      "execution_count": null,
      "outputs": [
        {
          "output_type": "execute_result",
          "data": {
            "text/plain": [
              "(75133, 10)"
            ]
          },
          "metadata": {},
          "execution_count": 4
        }
      ]
    },
    {
      "cell_type": "code",
      "source": [
        "df.nunique()"
      ],
      "metadata": {
        "colab": {
          "base_uri": "https://localhost:8080/",
          "height": 397
        },
        "id": "yex62iPMYCFU",
        "outputId": "ff95ffec-c123-45c2-cb43-e1c9dc5ceab4"
      },
      "execution_count": null,
      "outputs": [
        {
          "output_type": "execute_result",
          "data": {
            "text/plain": [
              "User_ID                        5692\n",
              "Product_ID                     3229\n",
              "Gender                            2\n",
              "Age                               7\n",
              "Occupation                       21\n",
              "City_Category                     3\n",
              "Stay_In_Current_City_Years        5\n",
              "Marital_Status                    2\n",
              "Product_Category                 18\n",
              "Purchase                      13038\n",
              "dtype: int64"
            ],
            "text/html": [
              "<div>\n",
              "<style scoped>\n",
              "    .dataframe tbody tr th:only-of-type {\n",
              "        vertical-align: middle;\n",
              "    }\n",
              "\n",
              "    .dataframe tbody tr th {\n",
              "        vertical-align: top;\n",
              "    }\n",
              "\n",
              "    .dataframe thead th {\n",
              "        text-align: right;\n",
              "    }\n",
              "</style>\n",
              "<table border=\"1\" class=\"dataframe\">\n",
              "  <thead>\n",
              "    <tr style=\"text-align: right;\">\n",
              "      <th></th>\n",
              "      <th>0</th>\n",
              "    </tr>\n",
              "  </thead>\n",
              "  <tbody>\n",
              "    <tr>\n",
              "      <th>User_ID</th>\n",
              "      <td>5692</td>\n",
              "    </tr>\n",
              "    <tr>\n",
              "      <th>Product_ID</th>\n",
              "      <td>3229</td>\n",
              "    </tr>\n",
              "    <tr>\n",
              "      <th>Gender</th>\n",
              "      <td>2</td>\n",
              "    </tr>\n",
              "    <tr>\n",
              "      <th>Age</th>\n",
              "      <td>7</td>\n",
              "    </tr>\n",
              "    <tr>\n",
              "      <th>Occupation</th>\n",
              "      <td>21</td>\n",
              "    </tr>\n",
              "    <tr>\n",
              "      <th>City_Category</th>\n",
              "      <td>3</td>\n",
              "    </tr>\n",
              "    <tr>\n",
              "      <th>Stay_In_Current_City_Years</th>\n",
              "      <td>5</td>\n",
              "    </tr>\n",
              "    <tr>\n",
              "      <th>Marital_Status</th>\n",
              "      <td>2</td>\n",
              "    </tr>\n",
              "    <tr>\n",
              "      <th>Product_Category</th>\n",
              "      <td>18</td>\n",
              "    </tr>\n",
              "    <tr>\n",
              "      <th>Purchase</th>\n",
              "      <td>13038</td>\n",
              "    </tr>\n",
              "  </tbody>\n",
              "</table>\n",
              "</div><br><label><b>dtype:</b> int64</label>"
            ]
          },
          "metadata": {},
          "execution_count": 5
        }
      ]
    },
    {
      "cell_type": "code",
      "source": [
        "df.describe()"
      ],
      "metadata": {
        "colab": {
          "base_uri": "https://localhost:8080/",
          "height": 300
        },
        "id": "EVT9THt9aq_E",
        "outputId": "1b07dd50-c287-445e-98f3-442777450a7b"
      },
      "execution_count": null,
      "outputs": [
        {
          "output_type": "execute_result",
          "data": {
            "text/plain": [
              "            User_ID    Occupation  Marital_Status  Product_Category  \\\n",
              "count  7.513300e+04  75132.000000    75132.000000      75132.000000   \n",
              "mean   1.002905e+06      8.102500        0.406937          5.302228   \n",
              "std    1.671908e+03      6.514722        0.491266          3.728501   \n",
              "min    1.000001e+06      0.000000        0.000000          1.000000   \n",
              "25%    1.001447e+06      2.000000        0.000000          1.000000   \n",
              "50%    1.002946e+06      7.000000        0.000000          5.000000   \n",
              "75%    1.004310e+06     14.000000        1.000000          8.000000   \n",
              "max    1.006040e+06     20.000000        1.000000         18.000000   \n",
              "\n",
              "           Purchase  \n",
              "count  75132.000000  \n",
              "mean    9298.807619  \n",
              "std     4965.135617  \n",
              "min      185.000000  \n",
              "25%     5863.000000  \n",
              "50%     8051.000000  \n",
              "75%    12043.000000  \n",
              "max    23958.000000  "
            ],
            "text/html": [
              "\n",
              "  <div id=\"df-b6d74759-cfbc-4f3d-8170-4c25885e121e\" class=\"colab-df-container\">\n",
              "    <div>\n",
              "<style scoped>\n",
              "    .dataframe tbody tr th:only-of-type {\n",
              "        vertical-align: middle;\n",
              "    }\n",
              "\n",
              "    .dataframe tbody tr th {\n",
              "        vertical-align: top;\n",
              "    }\n",
              "\n",
              "    .dataframe thead th {\n",
              "        text-align: right;\n",
              "    }\n",
              "</style>\n",
              "<table border=\"1\" class=\"dataframe\">\n",
              "  <thead>\n",
              "    <tr style=\"text-align: right;\">\n",
              "      <th></th>\n",
              "      <th>User_ID</th>\n",
              "      <th>Occupation</th>\n",
              "      <th>Marital_Status</th>\n",
              "      <th>Product_Category</th>\n",
              "      <th>Purchase</th>\n",
              "    </tr>\n",
              "  </thead>\n",
              "  <tbody>\n",
              "    <tr>\n",
              "      <th>count</th>\n",
              "      <td>7.513300e+04</td>\n",
              "      <td>75132.000000</td>\n",
              "      <td>75132.000000</td>\n",
              "      <td>75132.000000</td>\n",
              "      <td>75132.000000</td>\n",
              "    </tr>\n",
              "    <tr>\n",
              "      <th>mean</th>\n",
              "      <td>1.002905e+06</td>\n",
              "      <td>8.102500</td>\n",
              "      <td>0.406937</td>\n",
              "      <td>5.302228</td>\n",
              "      <td>9298.807619</td>\n",
              "    </tr>\n",
              "    <tr>\n",
              "      <th>std</th>\n",
              "      <td>1.671908e+03</td>\n",
              "      <td>6.514722</td>\n",
              "      <td>0.491266</td>\n",
              "      <td>3.728501</td>\n",
              "      <td>4965.135617</td>\n",
              "    </tr>\n",
              "    <tr>\n",
              "      <th>min</th>\n",
              "      <td>1.000001e+06</td>\n",
              "      <td>0.000000</td>\n",
              "      <td>0.000000</td>\n",
              "      <td>1.000000</td>\n",
              "      <td>185.000000</td>\n",
              "    </tr>\n",
              "    <tr>\n",
              "      <th>25%</th>\n",
              "      <td>1.001447e+06</td>\n",
              "      <td>2.000000</td>\n",
              "      <td>0.000000</td>\n",
              "      <td>1.000000</td>\n",
              "      <td>5863.000000</td>\n",
              "    </tr>\n",
              "    <tr>\n",
              "      <th>50%</th>\n",
              "      <td>1.002946e+06</td>\n",
              "      <td>7.000000</td>\n",
              "      <td>0.000000</td>\n",
              "      <td>5.000000</td>\n",
              "      <td>8051.000000</td>\n",
              "    </tr>\n",
              "    <tr>\n",
              "      <th>75%</th>\n",
              "      <td>1.004310e+06</td>\n",
              "      <td>14.000000</td>\n",
              "      <td>1.000000</td>\n",
              "      <td>8.000000</td>\n",
              "      <td>12043.000000</td>\n",
              "    </tr>\n",
              "    <tr>\n",
              "      <th>max</th>\n",
              "      <td>1.006040e+06</td>\n",
              "      <td>20.000000</td>\n",
              "      <td>1.000000</td>\n",
              "      <td>18.000000</td>\n",
              "      <td>23958.000000</td>\n",
              "    </tr>\n",
              "  </tbody>\n",
              "</table>\n",
              "</div>\n",
              "    <div class=\"colab-df-buttons\">\n",
              "\n",
              "  <div class=\"colab-df-container\">\n",
              "    <button class=\"colab-df-convert\" onclick=\"convertToInteractive('df-b6d74759-cfbc-4f3d-8170-4c25885e121e')\"\n",
              "            title=\"Convert this dataframe to an interactive table.\"\n",
              "            style=\"display:none;\">\n",
              "\n",
              "  <svg xmlns=\"http://www.w3.org/2000/svg\" height=\"24px\" viewBox=\"0 -960 960 960\">\n",
              "    <path d=\"M120-120v-720h720v720H120Zm60-500h600v-160H180v160Zm220 220h160v-160H400v160Zm0 220h160v-160H400v160ZM180-400h160v-160H180v160Zm440 0h160v-160H620v160ZM180-180h160v-160H180v160Zm440 0h160v-160H620v160Z\"/>\n",
              "  </svg>\n",
              "    </button>\n",
              "\n",
              "  <style>\n",
              "    .colab-df-container {\n",
              "      display:flex;\n",
              "      gap: 12px;\n",
              "    }\n",
              "\n",
              "    .colab-df-convert {\n",
              "      background-color: #E8F0FE;\n",
              "      border: none;\n",
              "      border-radius: 50%;\n",
              "      cursor: pointer;\n",
              "      display: none;\n",
              "      fill: #1967D2;\n",
              "      height: 32px;\n",
              "      padding: 0 0 0 0;\n",
              "      width: 32px;\n",
              "    }\n",
              "\n",
              "    .colab-df-convert:hover {\n",
              "      background-color: #E2EBFA;\n",
              "      box-shadow: 0px 1px 2px rgba(60, 64, 67, 0.3), 0px 1px 3px 1px rgba(60, 64, 67, 0.15);\n",
              "      fill: #174EA6;\n",
              "    }\n",
              "\n",
              "    .colab-df-buttons div {\n",
              "      margin-bottom: 4px;\n",
              "    }\n",
              "\n",
              "    [theme=dark] .colab-df-convert {\n",
              "      background-color: #3B4455;\n",
              "      fill: #D2E3FC;\n",
              "    }\n",
              "\n",
              "    [theme=dark] .colab-df-convert:hover {\n",
              "      background-color: #434B5C;\n",
              "      box-shadow: 0px 1px 3px 1px rgba(0, 0, 0, 0.15);\n",
              "      filter: drop-shadow(0px 1px 2px rgba(0, 0, 0, 0.3));\n",
              "      fill: #FFFFFF;\n",
              "    }\n",
              "  </style>\n",
              "\n",
              "    <script>\n",
              "      const buttonEl =\n",
              "        document.querySelector('#df-b6d74759-cfbc-4f3d-8170-4c25885e121e button.colab-df-convert');\n",
              "      buttonEl.style.display =\n",
              "        google.colab.kernel.accessAllowed ? 'block' : 'none';\n",
              "\n",
              "      async function convertToInteractive(key) {\n",
              "        const element = document.querySelector('#df-b6d74759-cfbc-4f3d-8170-4c25885e121e');\n",
              "        const dataTable =\n",
              "          await google.colab.kernel.invokeFunction('convertToInteractive',\n",
              "                                                    [key], {});\n",
              "        if (!dataTable) return;\n",
              "\n",
              "        const docLinkHtml = 'Like what you see? Visit the ' +\n",
              "          '<a target=\"_blank\" href=https://colab.research.google.com/notebooks/data_table.ipynb>data table notebook</a>'\n",
              "          + ' to learn more about interactive tables.';\n",
              "        element.innerHTML = '';\n",
              "        dataTable['output_type'] = 'display_data';\n",
              "        await google.colab.output.renderOutput(dataTable, element);\n",
              "        const docLink = document.createElement('div');\n",
              "        docLink.innerHTML = docLinkHtml;\n",
              "        element.appendChild(docLink);\n",
              "      }\n",
              "    </script>\n",
              "  </div>\n",
              "\n",
              "\n",
              "<div id=\"df-dd267bc4-4cfd-4579-b10d-765dba949aef\">\n",
              "  <button class=\"colab-df-quickchart\" onclick=\"quickchart('df-dd267bc4-4cfd-4579-b10d-765dba949aef')\"\n",
              "            title=\"Suggest charts\"\n",
              "            style=\"display:none;\">\n",
              "\n",
              "<svg xmlns=\"http://www.w3.org/2000/svg\" height=\"24px\"viewBox=\"0 0 24 24\"\n",
              "     width=\"24px\">\n",
              "    <g>\n",
              "        <path d=\"M19 3H5c-1.1 0-2 .9-2 2v14c0 1.1.9 2 2 2h14c1.1 0 2-.9 2-2V5c0-1.1-.9-2-2-2zM9 17H7v-7h2v7zm4 0h-2V7h2v10zm4 0h-2v-4h2v4z\"/>\n",
              "    </g>\n",
              "</svg>\n",
              "  </button>\n",
              "\n",
              "<style>\n",
              "  .colab-df-quickchart {\n",
              "      --bg-color: #E8F0FE;\n",
              "      --fill-color: #1967D2;\n",
              "      --hover-bg-color: #E2EBFA;\n",
              "      --hover-fill-color: #174EA6;\n",
              "      --disabled-fill-color: #AAA;\n",
              "      --disabled-bg-color: #DDD;\n",
              "  }\n",
              "\n",
              "  [theme=dark] .colab-df-quickchart {\n",
              "      --bg-color: #3B4455;\n",
              "      --fill-color: #D2E3FC;\n",
              "      --hover-bg-color: #434B5C;\n",
              "      --hover-fill-color: #FFFFFF;\n",
              "      --disabled-bg-color: #3B4455;\n",
              "      --disabled-fill-color: #666;\n",
              "  }\n",
              "\n",
              "  .colab-df-quickchart {\n",
              "    background-color: var(--bg-color);\n",
              "    border: none;\n",
              "    border-radius: 50%;\n",
              "    cursor: pointer;\n",
              "    display: none;\n",
              "    fill: var(--fill-color);\n",
              "    height: 32px;\n",
              "    padding: 0;\n",
              "    width: 32px;\n",
              "  }\n",
              "\n",
              "  .colab-df-quickchart:hover {\n",
              "    background-color: var(--hover-bg-color);\n",
              "    box-shadow: 0 1px 2px rgba(60, 64, 67, 0.3), 0 1px 3px 1px rgba(60, 64, 67, 0.15);\n",
              "    fill: var(--button-hover-fill-color);\n",
              "  }\n",
              "\n",
              "  .colab-df-quickchart-complete:disabled,\n",
              "  .colab-df-quickchart-complete:disabled:hover {\n",
              "    background-color: var(--disabled-bg-color);\n",
              "    fill: var(--disabled-fill-color);\n",
              "    box-shadow: none;\n",
              "  }\n",
              "\n",
              "  .colab-df-spinner {\n",
              "    border: 2px solid var(--fill-color);\n",
              "    border-color: transparent;\n",
              "    border-bottom-color: var(--fill-color);\n",
              "    animation:\n",
              "      spin 1s steps(1) infinite;\n",
              "  }\n",
              "\n",
              "  @keyframes spin {\n",
              "    0% {\n",
              "      border-color: transparent;\n",
              "      border-bottom-color: var(--fill-color);\n",
              "      border-left-color: var(--fill-color);\n",
              "    }\n",
              "    20% {\n",
              "      border-color: transparent;\n",
              "      border-left-color: var(--fill-color);\n",
              "      border-top-color: var(--fill-color);\n",
              "    }\n",
              "    30% {\n",
              "      border-color: transparent;\n",
              "      border-left-color: var(--fill-color);\n",
              "      border-top-color: var(--fill-color);\n",
              "      border-right-color: var(--fill-color);\n",
              "    }\n",
              "    40% {\n",
              "      border-color: transparent;\n",
              "      border-right-color: var(--fill-color);\n",
              "      border-top-color: var(--fill-color);\n",
              "    }\n",
              "    60% {\n",
              "      border-color: transparent;\n",
              "      border-right-color: var(--fill-color);\n",
              "    }\n",
              "    80% {\n",
              "      border-color: transparent;\n",
              "      border-right-color: var(--fill-color);\n",
              "      border-bottom-color: var(--fill-color);\n",
              "    }\n",
              "    90% {\n",
              "      border-color: transparent;\n",
              "      border-bottom-color: var(--fill-color);\n",
              "    }\n",
              "  }\n",
              "</style>\n",
              "\n",
              "  <script>\n",
              "    async function quickchart(key) {\n",
              "      const quickchartButtonEl =\n",
              "        document.querySelector('#' + key + ' button');\n",
              "      quickchartButtonEl.disabled = true;  // To prevent multiple clicks.\n",
              "      quickchartButtonEl.classList.add('colab-df-spinner');\n",
              "      try {\n",
              "        const charts = await google.colab.kernel.invokeFunction(\n",
              "            'suggestCharts', [key], {});\n",
              "      } catch (error) {\n",
              "        console.error('Error during call to suggestCharts:', error);\n",
              "      }\n",
              "      quickchartButtonEl.classList.remove('colab-df-spinner');\n",
              "      quickchartButtonEl.classList.add('colab-df-quickchart-complete');\n",
              "    }\n",
              "    (() => {\n",
              "      let quickchartButtonEl =\n",
              "        document.querySelector('#df-dd267bc4-4cfd-4579-b10d-765dba949aef button');\n",
              "      quickchartButtonEl.style.display =\n",
              "        google.colab.kernel.accessAllowed ? 'block' : 'none';\n",
              "    })();\n",
              "  </script>\n",
              "</div>\n",
              "\n",
              "    </div>\n",
              "  </div>\n"
            ],
            "application/vnd.google.colaboratory.intrinsic+json": {
              "type": "dataframe",
              "summary": "{\n  \"name\": \"df\",\n  \"rows\": 8,\n  \"fields\": [\n    {\n      \"column\": \"User_ID\",\n      \"properties\": {\n        \"dtype\": \"number\",\n        \"std\": 446929.8657750993,\n        \"min\": 1671.9083680314534,\n        \"max\": 1006040.0,\n        \"num_unique_values\": 8,\n        \"samples\": [\n          1002905.3259819254,\n          1002946.0,\n          75133.0\n        ],\n        \"semantic_type\": \"\",\n        \"description\": \"\"\n      }\n    },\n    {\n      \"column\": \"Occupation\",\n      \"properties\": {\n        \"dtype\": \"number\",\n        \"std\": 26560.263993574295,\n        \"min\": 0.0,\n        \"max\": 75132.0,\n        \"num_unique_values\": 8,\n        \"samples\": [\n          8.102499600702764,\n          7.0,\n          75132.0\n        ],\n        \"semantic_type\": \"\",\n        \"description\": \"\"\n      }\n    },\n    {\n      \"column\": \"Marital_Status\",\n      \"properties\": {\n        \"dtype\": \"number\",\n        \"std\": 26563.026963924618,\n        \"min\": 0.0,\n        \"max\": 75132.0,\n        \"num_unique_values\": 5,\n        \"samples\": [\n          0.40693712399510196,\n          1.0,\n          0.4912662346996891\n        ],\n        \"semantic_type\": \"\",\n        \"description\": \"\"\n      }\n    },\n    {\n      \"column\": \"Product_Category\",\n      \"properties\": {\n        \"dtype\": \"number\",\n        \"std\": 26561.051019978902,\n        \"min\": 1.0,\n        \"max\": 75132.0,\n        \"num_unique_values\": 7,\n        \"samples\": [\n          75132.0,\n          5.302228078581696,\n          8.0\n        ],\n        \"semantic_type\": \"\",\n        \"description\": \"\"\n      }\n    },\n    {\n      \"column\": \"Purchase\",\n      \"properties\": {\n        \"dtype\": \"number\",\n        \"std\": 24324.57679685198,\n        \"min\": 185.0,\n        \"max\": 75132.0,\n        \"num_unique_values\": 8,\n        \"samples\": [\n          9298.80761859128,\n          8051.0,\n          75132.0\n        ],\n        \"semantic_type\": \"\",\n        \"description\": \"\"\n      }\n    }\n  ]\n}"
            }
          },
          "metadata": {},
          "execution_count": 6
        }
      ]
    },
    {
      "cell_type": "markdown",
      "source": [
        "#2 ) Detect Null values & Outliers (using boxplot, “describe” method by checking the difference between mean and median, isnull etc.)"
      ],
      "metadata": {
        "id": "REn6i4i4jhMM"
      }
    },
    {
      "cell_type": "markdown",
      "source": [
        "Detect null values"
      ],
      "metadata": {
        "id": "XOvgh740eEOy"
      }
    },
    {
      "cell_type": "code",
      "source": [
        "null_counts = df.isnull().sum()\n",
        "print(\"Null Value Counts:\")\n",
        "print(null_counts)"
      ],
      "metadata": {
        "colab": {
          "base_uri": "https://localhost:8080/"
        },
        "id": "YfMFgaA9b7Io",
        "outputId": "f6b27c2f-f2aa-44d8-97fe-6aeb617f7292"
      },
      "execution_count": null,
      "outputs": [
        {
          "output_type": "stream",
          "name": "stdout",
          "text": [
            "Null Value Counts:\n",
            "User_ID                       0\n",
            "Product_ID                    0\n",
            "Gender                        1\n",
            "Age                           1\n",
            "Occupation                    1\n",
            "City_Category                 1\n",
            "Stay_In_Current_City_Years    1\n",
            "Marital_Status                1\n",
            "Product_Category              1\n",
            "Purchase                      1\n",
            "dtype: int64\n"
          ]
        }
      ]
    },
    {
      "cell_type": "code",
      "source": [
        "df.isnull().values.any()"
      ],
      "metadata": {
        "colab": {
          "base_uri": "https://localhost:8080/"
        },
        "id": "e3bF2_iMdNDQ",
        "outputId": "9cbe1992-78c6-41f2-ace5-bb1acdbc94ec"
      },
      "execution_count": null,
      "outputs": [
        {
          "output_type": "execute_result",
          "data": {
            "text/plain": [
              "np.True_"
            ]
          },
          "metadata": {},
          "execution_count": 8
        }
      ]
    },
    {
      "cell_type": "code",
      "source": [
        "df.dropna(inplace=True)"
      ],
      "metadata": {
        "id": "rh_gceB4dqxo"
      },
      "execution_count": null,
      "outputs": []
    },
    {
      "cell_type": "code",
      "source": [
        "print(\"Null counts after dropping rows with missing values:\")\n",
        "print(df.isnull().sum())"
      ],
      "metadata": {
        "colab": {
          "base_uri": "https://localhost:8080/"
        },
        "id": "0hpfAkh-dxxk",
        "outputId": "8cb90019-9862-4da2-b6e5-84ed26512dc4"
      },
      "execution_count": null,
      "outputs": [
        {
          "output_type": "stream",
          "name": "stdout",
          "text": [
            "Null counts after dropping rows with missing values:\n",
            "User_ID                       0\n",
            "Product_ID                    0\n",
            "Gender                        0\n",
            "Age                           0\n",
            "Occupation                    0\n",
            "City_Category                 0\n",
            "Stay_In_Current_City_Years    0\n",
            "Marital_Status                0\n",
            "Product_Category              0\n",
            "Purchase                      0\n",
            "dtype: int64\n"
          ]
        }
      ]
    },
    {
      "cell_type": "markdown",
      "source": [
        "Summary statistics with describe()"
      ],
      "metadata": {
        "id": "zMWkow6CeNzI"
      }
    },
    {
      "cell_type": "code",
      "source": [
        "df['Purchase'].describe()"
      ],
      "metadata": {
        "colab": {
          "base_uri": "https://localhost:8080/",
          "height": 335
        },
        "id": "ZDXmpTuCd8Mw",
        "outputId": "12b1c954-82aa-4ab0-9755-78470a5d2957"
      },
      "execution_count": null,
      "outputs": [
        {
          "output_type": "execute_result",
          "data": {
            "text/plain": [
              "count    75132.000000\n",
              "mean      9298.807619\n",
              "std       4965.135617\n",
              "min        185.000000\n",
              "25%       5863.000000\n",
              "50%       8051.000000\n",
              "75%      12043.000000\n",
              "max      23958.000000\n",
              "Name: Purchase, dtype: float64"
            ],
            "text/html": [
              "<div>\n",
              "<style scoped>\n",
              "    .dataframe tbody tr th:only-of-type {\n",
              "        vertical-align: middle;\n",
              "    }\n",
              "\n",
              "    .dataframe tbody tr th {\n",
              "        vertical-align: top;\n",
              "    }\n",
              "\n",
              "    .dataframe thead th {\n",
              "        text-align: right;\n",
              "    }\n",
              "</style>\n",
              "<table border=\"1\" class=\"dataframe\">\n",
              "  <thead>\n",
              "    <tr style=\"text-align: right;\">\n",
              "      <th></th>\n",
              "      <th>Purchase</th>\n",
              "    </tr>\n",
              "  </thead>\n",
              "  <tbody>\n",
              "    <tr>\n",
              "      <th>count</th>\n",
              "      <td>75132.000000</td>\n",
              "    </tr>\n",
              "    <tr>\n",
              "      <th>mean</th>\n",
              "      <td>9298.807619</td>\n",
              "    </tr>\n",
              "    <tr>\n",
              "      <th>std</th>\n",
              "      <td>4965.135617</td>\n",
              "    </tr>\n",
              "    <tr>\n",
              "      <th>min</th>\n",
              "      <td>185.000000</td>\n",
              "    </tr>\n",
              "    <tr>\n",
              "      <th>25%</th>\n",
              "      <td>5863.000000</td>\n",
              "    </tr>\n",
              "    <tr>\n",
              "      <th>50%</th>\n",
              "      <td>8051.000000</td>\n",
              "    </tr>\n",
              "    <tr>\n",
              "      <th>75%</th>\n",
              "      <td>12043.000000</td>\n",
              "    </tr>\n",
              "    <tr>\n",
              "      <th>max</th>\n",
              "      <td>23958.000000</td>\n",
              "    </tr>\n",
              "  </tbody>\n",
              "</table>\n",
              "</div><br><label><b>dtype:</b> float64</label>"
            ]
          },
          "metadata": {},
          "execution_count": 11
        }
      ]
    },
    {
      "cell_type": "markdown",
      "source": [
        "Mean = 9326.964489\\\n",
        "Median = 8061\\\n",
        "There is a huge difference 1265.964489 between mean and median -> Its likely right skewed with outliers on the high side"
      ],
      "metadata": {
        "id": "ddzGYznwe1nw"
      }
    },
    {
      "cell_type": "markdown",
      "source": [
        "Outlier detection"
      ],
      "metadata": {
        "id": "ly69iJC4fvUI"
      }
    },
    {
      "cell_type": "code",
      "source": [
        "plt.figure(figsize=(10, 6))\n",
        "sns.boxplot(x=df['Purchase'])\n",
        "plt.title('Box Plot of Purchase')\n",
        "plt.show()"
      ],
      "metadata": {
        "colab": {
          "base_uri": "https://localhost:8080/",
          "height": 564
        },
        "id": "4CguS143feg7",
        "outputId": "53cbd3bd-9f7c-42be-9f15-1a00ee28861c"
      },
      "execution_count": null,
      "outputs": [
        {
          "output_type": "display_data",
          "data": {
            "text/plain": [
              "<Figure size 1000x600 with 1 Axes>"
            ],
            "image/png": "[encoded data removed]"
          },
          "metadata": {}
        }
      ]
    },
    {
      "cell_type": "markdown",
      "source": [
        "#3 ) Do some data exploration steps like:"
      ],
      "metadata": {
        "id": "7puIei1Sksyf"
      }
    },
    {
      "cell_type": "markdown",
      "source": [
        "1)Tracking the amount spent per transaction of all the 50 million female customers, and all the 50 million male customers, calculate the average, and conclude the results."
      ],
      "metadata": {
        "id": "s9GNH3prgV2q"
      }
    },
    {
      "cell_type": "code",
      "source": [
        "gender_avg = df.groupby('Gender')['Purchase'].mean()\n",
        "print(gender_avg)"
      ],
      "metadata": {
        "colab": {
          "base_uri": "https://localhost:8080/"
        },
        "id": "K71VAzihfsAk",
        "outputId": "1da7ab99-7e3e-48d1-b31a-64f07c15756b"
      },
      "execution_count": null,
      "outputs": [
        {
          "output_type": "stream",
          "name": "stdout",
          "text": [
            "Gender\n",
            "F    8780.111166\n",
            "M    9464.059671\n",
            "Name: Purchase, dtype: float64\n"
          ]
        }
      ]
    },
    {
      "cell_type": "code",
      "source": [
        "sns.barplot(x=gender_avg.index, y=gender_avg.values)\n",
        "plt.title('Average Purchase by Gender')\n",
        "plt.xlabel('Gender')\n",
        "plt.ylabel('Average Purchase')\n",
        "plt.show()"
      ],
      "metadata": {
        "colab": {
          "base_uri": "https://localhost:8080/",
          "height": 472
        },
        "id": "mLUHzjOZg_Rm",
        "outputId": "0daa0231-1731-4e7b-e3c1-872e9a745998"
      },
      "execution_count": null,
      "outputs": [
        {
          "output_type": "display_data",
          "data": {
            "text/plain": [
              "<Figure size 640x480 with 1 Axes>"
            ],
            "image/png": "[encoded data removed]"
          },
          "metadata": {}
        }
      ]
    },
    {
      "cell_type": "markdown",
      "source": [
        "2)Inference after computing the average female and male expenses."
      ],
      "metadata": {
        "id": "Y6UImeLqk4nX"
      }
    },
    {
      "cell_type": "markdown",
      "source": [
        "- Male customers spend more than female customers on purchase\n",
        "- The difference is 687.9595370000006 more per male customer"
      ],
      "metadata": {
        "id": "yWhfgv5ygkmR"
      }
    },
    {
      "cell_type": "markdown",
      "source": [
        "The difference in average spending could be influenced by factors like \\\n",
        "- Product category preferences\n",
        "- Marketing strategies targeting each gender\n",
        "- Income differences or spending habits\n",
        "These insights can help tailor marketing campaigns, product recommandations and pricing strategies more effectively for each gender group"
      ],
      "metadata": {
        "id": "zwCdSaLCh3XL"
      }
    },
    {
      "cell_type": "markdown",
      "source": [
        "3)Use the sample average to find out an interval within which the population average will lie. Using the sample of female customers you will calculate the interval within which the average spending of 50 million male and female customers may lie."
      ],
      "metadata": {
        "id": "58fOZ0XIlC1M"
      }
    },
    {
      "cell_type": "code",
      "source": [
        "from scipy.stats import norm\n",
        "female_data = df[df['Gender']=='F']['Purchase']\n",
        "sample_mean = female_data.mean()\n",
        "sample_std = female_data.std()\n",
        "n = female_data.count()\n",
        "sample_error = sample_std / np.sqrt(n)\n",
        "\n",
        "# Z-score for 95% confidence\n",
        "z = norm.ppf(0.975)\n",
        "\n",
        "# Margin of error\n",
        "margin_of_error = z * sample_error\n",
        "\n",
        "# Confidence interval\n",
        "lower_bound = sample_mean - margin_of_error\n",
        "upper_bound = sample_mean + margin_of_error\n",
        "\n",
        "print(f\"95% Confidence Interval for Female Customers: ({lower_bound:.2f}, {upper_bound:.2f})\")"
      ],
      "metadata": {
        "colab": {
          "base_uri": "https://localhost:8080/"
        },
        "id": "es-QLcC2hcTS",
        "outputId": "e53f5193-dd80-42d0-9254-bd4aab65f14e"
      },
      "execution_count": null,
      "outputs": [
        {
          "output_type": "stream",
          "name": "stdout",
          "text": [
            "95% Confidence Interval for Female Customers: (8712.06, 8848.17)\n"
          ]
        }
      ]
    },
    {
      "cell_type": "markdown",
      "source": [
        "Based on the sample of female customers, we are 95% confidence that thee true average spending of the entire population of female customers lies between 8777.93 and 8838.77"
      ],
      "metadata": {
        "id": "D7nWyGlAn1hH"
      }
    },
    {
      "cell_type": "code",
      "source": [
        "male_data = df[df['Gender']=='M']['Purchase']\n",
        "sample_mean = male_data.mean()\n",
        "sample_std = male_data.std()\n",
        "n = male_data.count()\n",
        "sample_error = sample_std / np.sqrt(n)\n",
        "\n",
        "# Z-score for 95% confidence\n",
        "z = norm.ppf(0.975)\n",
        "\n",
        "# Margin of error\n",
        "margin_of_error = z * sample_error\n",
        "\n",
        "# Confidence interval\n",
        "lower_bound = sample_mean - margin_of_error\n",
        "upper_bound = sample_mean + margin_of_error\n",
        "\n",
        "print(f\"95% Confidence Interval for Male Customers: ({lower_bound:.2f}, {upper_bound:.2f})\")"
      ],
      "metadata": {
        "colab": {
          "base_uri": "https://localhost:8080/"
        },
        "outputId": "857de1a8-f7dd-428e-d88a-681511762365",
        "id": "S0JGNLaUndZN"
      },
      "execution_count": null,
      "outputs": [
        {
          "output_type": "stream",
          "name": "stdout",
          "text": [
            "95% Confidence Interval for Male Customers: (9422.66, 9505.46)\n"
          ]
        }
      ]
    },
    {
      "cell_type": "markdown",
      "source": [
        "Based on the sample of male customers, we are 95% confidence that thee true average spending of the entire population of male customers lies between 9477.72 and 9514.90"
      ],
      "metadata": {
        "id": "sUE4XucOoTqU"
      }
    },
    {
      "cell_type": "markdown",
      "source": [
        "#4 ) Use the Central limit theorem to compute the interval. Change the sample size to observe the distribution of the mean of the expenses by female and male customers."
      ],
      "metadata": {
        "id": "SjOSnaVUp_wQ"
      }
    },
    {
      "cell_type": "markdown",
      "source": [
        "The interval that you calculated is called Confidence Interval. The width of the interval is mostly decided by the business: Typically 90%, 95%, or 99%. Play around with the width parameter and report the observations."
      ],
      "metadata": {
        "id": "doHliXhBqFP9"
      }
    },
    {
      "cell_type": "code",
      "source": [
        "female_purchases = df[df['Gender']=='F']['Purchase']\n",
        "male_purchases = df[df['Gender']=='M']['Purchase']\n",
        "\n",
        "def simulate_clt(data, sample_size=100, num_samples=1000, confidence=0.95, Gender='F'):\n",
        "    sample_means = []\n",
        "    for _ in range(num_samples):\n",
        "      sample=np.random.choice(data, size=sample_size)\n",
        "      sample_mean = sample.mean()\n",
        "      sample_means.append(sample_mean)\n",
        "    sample_means = np.array(sample_means)\n",
        "\n",
        "    mean=np.mean(sample_means)\n",
        "    std=np.std(sample_means)\n",
        "    z=norm.ppf(1-(1-confidence)/2)\n",
        "    margin = z*std\n",
        "\n",
        "    lower = mean - margin\n",
        "    upper = mean + margin\n",
        "\n",
        "    plt.figure(figsize=(10, 6))\n",
        "    plt.hist(sample_means, bins=30, alpha=0.7, color='blue', edgecolor='black')\n",
        "    plt.axvline(lower, color='red', linestyle='--', label=f'{100 * confidence}% Confidence Interval')\n",
        "    plt.axvline(upper, color='red', linestyle='--')\n",
        "    plt.axvline(mean, color='red', linestyle='--')\n",
        "    plt.title(f'Distribution of Sample Means for {Gender} Customers')\n",
        "    plt.xlabel('Sample Mean')\n",
        "    plt.ylabel('Frequency')\n",
        "    plt.legend()\n",
        "    plt.show()\n",
        "\n",
        "    print(f\"{int(confidence*100)}% Confidence Interval for {Gender} Customers: ({lower:.2f}, {upper:.2f})\")\n",
        "\n",
        "simulate_clt(female_purchases, sample_size=100, confidence=0.90, Gender='F')\n",
        "simulate_clt(male_purchases, sample_size=100, confidence=0.90, Gender='M')\n"
      ],
      "metadata": {
        "colab": {
          "base_uri": "https://localhost:8080/",
          "height": 1146
        },
        "id": "IzgcvNMTnll1",
        "outputId": "01dfd876-16e0-405b-9efe-ee4dc0daac20"
      },
      "execution_count": null,
      "outputs": [
        {
          "output_type": "display_data",
          "data": {
            "text/plain": [
              "<Figure size 1000x600 with 1 Axes>"
            ],
            "image/png": "[encoded data removed]"
          },
          "metadata": {}
        },
        {
          "output_type": "stream",
          "name": "stdout",
          "text": [
            "90% Confidence Interval for F Customers: (7986.66, 9542.43)\n"
          ]
        },
        {
          "output_type": "display_data",
          "data": {
            "text/plain": [
              "<Figure size 1000x600 with 1 Axes>"
            ],
            "image/png": "[encoded data removed]"
          },
          "metadata": {}
        },
        {
          "output_type": "stream",
          "name": "stdout",
          "text": [
            "90% Confidence Interval for M Customers: (8630.75, 10284.26)\n"
          ]
        }
      ]
    },
    {
      "cell_type": "code",
      "source": [
        "simulate_clt(female_purchases, sample_size=100, confidence=0.95, Gender='F')\n",
        "simulate_clt(male_purchases, sample_size=100, confidence=0.95, Gender='M')"
      ],
      "metadata": {
        "colab": {
          "base_uri": "https://localhost:8080/",
          "height": 1146
        },
        "id": "Ao4C7KVe04c1",
        "outputId": "bfac7d68-a0db-459d-81e9-81b791229cec"
      },
      "execution_count": null,
      "outputs": [
        {
          "output_type": "display_data",
          "data": {
            "text/plain": [
              "<Figure size 1000x600 with 1 Axes>"
            ],
            "image/png": "[encoded data removed]"
          },
          "metadata": {}
        },
        {
          "output_type": "stream",
          "name": "stdout",
          "text": [
            "95% Confidence Interval for F Customers: (7835.57, 9718.82)\n"
          ]
        },
        {
          "output_type": "display_data",
          "data": {
            "text/plain": [
              "<Figure size 1000x600 with 1 Axes>"
            ],
            "image/png": "[encoded data removed]"
          },
          "metadata": {}
        },
        {
          "output_type": "stream",
          "name": "stdout",
          "text": [
            "95% Confidence Interval for M Customers: (8495.60, 10409.13)\n"
          ]
        }
      ]
    },
    {
      "cell_type": "markdown",
      "source": [
        "#5 ) Conclude the results and check if the confidence intervals of average male and female spends are overlapping or not overlapping. How can Walmart leverage this conclusion to make changes or improvements?"
      ],
      "metadata": {
        "id": "b627lHawwGKJ"
      }
    },
    {
      "cell_type": "markdown",
      "source": [
        "Using the central limit theorem and confidence interval:\n",
        "- We calculated 95% confidence for average spending of male and female\n",
        "- The average male purchase amount was higher than the female purchase amount"
      ],
      "metadata": {
        "id": "sf-jxEvGxVZ8"
      }
    },
    {
      "cell_type": "markdown",
      "source": [
        "Do the intervals overlap ?\n",
        "- No, the intervals do not overlap\n",
        "- This shows the statistical significant difference between spending behavior of male and female customers"
      ],
      "metadata": {
        "id": "aBHq76VOyVsG"
      }
    },
    {
      "cell_type": "markdown",
      "source": [
        "How can Walmart leverage this insight ?\n",
        "- Higher spending male customers can be targeted with premium and bundle offers\n",
        "- Female customers might prefer different product types or price ranges -\n",
        "    - So Walmart could highlight value based offers\n",
        "    - Use personalize recommandation\n",
        "- Optimaize inventory based on gender specific patterns\n",
        "- Create gender tailored advertisement for special events"
      ],
      "metadata": {
        "id": "poIco6x8zJBC"
      }
    },
    {
      "cell_type": "markdown",
      "source": [
        "#6 ) Perform the same activity for Married vs Unmarried and Age"
      ],
      "metadata": {
        "id": "GTo4AtVE0S-b"
      }
    },
    {
      "cell_type": "markdown",
      "source": [
        "For Age, you can try bins based on life stages: 0-17, 18-25, 26-35, 36-50, 51+ years."
      ],
      "metadata": {
        "id": "fnvjuv5C0Wsq"
      }
    },
    {
      "cell_type": "code",
      "source": [
        "def compute_confidence_interval(data, confidence=0.95, label='Group'):\n",
        "  sample_mean=data.mean()\n",
        "  sample_std=data.std()\n",
        "  n=data.count()\n",
        "  sample_error = sample_std / np.sqrt(n)\n",
        "  z=norm.ppf(1-(1-confidence)/2)\n",
        "  margin = z*sample_error\n",
        "  lower = sample_mean - margin\n",
        "  upper = sample_mean + margin\n",
        "  print(f\"{int(confidence*100)}% Confidence Interval for {label}: ({lower:.2f}, {upper:.2f})\")\n",
        "\n",
        "# Marital status analysis\n",
        "married = df[df['Marital_Status']==1]['Purchase']\n",
        "unmarried = df[df['Marital_Status']==0]['Purchase']\n",
        "ci_married = compute_confidence_interval(married, confidence=0.95, label='Married')\n",
        "ci_unmaried = compute_confidence_interval(unmarried, confidence=0.95, label='Unmarried')\n",
        "\n",
        "age_bins = {\n",
        "    \"0-17\":[],\n",
        "    \"18-25\":[],\n",
        "    \"26-35\":[],\n",
        "    \"36-50\":[],\n",
        "    \"51+\":[]\n",
        "}\n",
        "\n",
        "for group in df['Age'].unique():\n",
        "  if group in [\"0-17\"]:\n",
        "    age_bins[\"0-17\"].append(group)\n",
        "  elif group in [\"18-25\"]:\n",
        "    age_bins[\"18-25\"].append(group)\n",
        "  elif group in [\"26-35\"]:\n",
        "    age_bins[\"26-35\"].append(group)\n",
        "  elif group in [\"36-50\"]:\n",
        "    age_bins[\"36-50\"].append(group)\n",
        "  else:\n",
        "    age_bins[\"51+\"].append(group)\n",
        "\n",
        "print(\"\\n Age wise analysis\")\n",
        "for label, age_group in age_bins.items():\n",
        "  age_data = df[df['Age'].isin(age_group)]['Purchase']\n",
        "  compute_confidence_interval(age_data, confidence=0.95, label=label)"
      ],
      "metadata": {
        "id": "SqxdwdFu1o0b",
        "colab": {
          "base_uri": "https://localhost:8080/"
        },
        "outputId": "abafb970-ceff-476c-edb7-c70cc99bd7cb"
      },
      "execution_count": null,
      "outputs": [
        {
          "output_type": "stream",
          "name": "stdout",
          "text": [
            "95% Confidence Interval for Married: (9255.45, 9366.08)\n",
            "95% Confidence Interval for Unmarried: (9244.31, 9336.90)\n",
            "\n",
            " Age wise analysis\n",
            "95% Confidence Interval for 0-17: (8841.84, 9291.93)\n",
            "95% Confidence Interval for 18-25: (9081.88, 9247.36)\n",
            "95% Confidence Interval for 26-35: (9239.87, 9352.71)\n",
            "95% Confidence Interval for 36-50: (nan, nan)\n",
            "95% Confidence Interval for 51+: (9324.78, 9437.69)\n"
          ]
        }
      ]
    },
    {
      "cell_type": "code",
      "source": [
        "df[df['Age']=='36-50']==True"
      ],
      "metadata": {
        "colab": {
          "base_uri": "https://localhost:8080/",
          "height": 53
        },
        "id": "o3_fhOap5Dgr",
        "outputId": "f3165bfc-f153-4f55-f787-79a56d1ccb03"
      },
      "execution_count": null,
      "outputs": [
        {
          "output_type": "execute_result",
          "data": {
            "text/plain": [
              "Empty DataFrame\n",
              "Columns: [User_ID, Product_ID, Gender, Age, Occupation, City_Category, Stay_In_Current_City_Years, Marital_Status, Product_Category, Purchase]\n",
              "Index: []"
            ],
            "text/html": [
              "\n",
              "  <div id=\"df-a25348ff-9a89-419c-96fc-7e62cfda7ee2\" class=\"colab-df-container\">\n",
              "    <div>\n",
              "<style scoped>\n",
              "    .dataframe tbody tr th:only-of-type {\n",
              "        vertical-align: middle;\n",
              "    }\n",
              "\n",
              "    .dataframe tbody tr th {\n",
              "        vertical-align: top;\n",
              "    }\n",
              "\n",
              "    .dataframe thead th {\n",
              "        text-align: right;\n",
              "    }\n",
              "</style>\n",
              "<table border=\"1\" class=\"dataframe\">\n",
              "  <thead>\n",
              "    <tr style=\"text-align: right;\">\n",
              "      <th></th>\n",
              "      <th>User_ID</th>\n",
              "      <th>Product_ID</th>\n",
              "      <th>Gender</th>\n",
              "      <th>Age</th>\n",
              "      <th>Occupation</th>\n",
              "      <th>City_Category</th>\n",
              "      <th>Stay_In_Current_City_Years</th>\n",
              "      <th>Marital_Status</th>\n",
              "      <th>Product_Category</th>\n",
              "      <th>Purchase</th>\n",
              "    </tr>\n",
              "  </thead>\n",
              "  <tbody>\n",
              "  </tbody>\n",
              "</table>\n",
              "</div>\n",
              "    <div class=\"colab-df-buttons\">\n",
              "\n",
              "  <div class=\"colab-df-container\">\n",
              "    <button class=\"colab-df-convert\" onclick=\"convertToInteractive('df-a25348ff-9a89-419c-96fc-7e62cfda7ee2')\"\n",
              "            title=\"Convert this dataframe to an interactive table.\"\n",
              "            style=\"display:none;\">\n",
              "\n",
              "  <svg xmlns=\"http://www.w3.org/2000/svg\" height=\"24px\" viewBox=\"0 -960 960 960\">\n",
              "    <path d=\"M120-120v-720h720v720H120Zm60-500h600v-160H180v160Zm220 220h160v-160H400v160Zm0 220h160v-160H400v160ZM180-400h160v-160H180v160Zm440 0h160v-160H620v160ZM180-180h160v-160H180v160Zm440 0h160v-160H620v160Z\"/>\n",
              "  </svg>\n",
              "    </button>\n",
              "\n",
              "  <style>\n",
              "    .colab-df-container {\n",
              "      display:flex;\n",
              "      gap: 12px;\n",
              "    }\n",
              "\n",
              "    .colab-df-convert {\n",
              "      background-color: #E8F0FE;\n",
              "      border: none;\n",
              "      border-radius: 50%;\n",
              "      cursor: pointer;\n",
              "      display: none;\n",
              "      fill: #1967D2;\n",
              "      height: 32px;\n",
              "      padding: 0 0 0 0;\n",
              "      width: 32px;\n",
              "    }\n",
              "\n",
              "    .colab-df-convert:hover {\n",
              "      background-color: #E2EBFA;\n",
              "      box-shadow: 0px 1px 2px rgba(60, 64, 67, 0.3), 0px 1px 3px 1px rgba(60, 64, 67, 0.15);\n",
              "      fill: #174EA6;\n",
              "    }\n",
              "\n",
              "    .colab-df-buttons div {\n",
              "      margin-bottom: 4px;\n",
              "    }\n",
              "\n",
              "    [theme=dark] .colab-df-convert {\n",
              "      background-color: #3B4455;\n",
              "      fill: #D2E3FC;\n",
              "    }\n",
              "\n",
              "    [theme=dark] .colab-df-convert:hover {\n",
              "      background-color: #434B5C;\n",
              "      box-shadow: 0px 1px 3px 1px rgba(0, 0, 0, 0.15);\n",
              "      filter: drop-shadow(0px 1px 2px rgba(0, 0, 0, 0.3));\n",
              "      fill: #FFFFFF;\n",
              "    }\n",
              "  </style>\n",
              "\n",
              "    <script>\n",
              "      const buttonEl =\n",
              "        document.querySelector('#df-a25348ff-9a89-419c-96fc-7e62cfda7ee2 button.colab-df-convert');\n",
              "      buttonEl.style.display =\n",
              "        google.colab.kernel.accessAllowed ? 'block' : 'none';\n",
              "\n",
              "      async function convertToInteractive(key) {\n",
              "        const element = document.querySelector('#df-a25348ff-9a89-419c-96fc-7e62cfda7ee2');\n",
              "        const dataTable =\n",
              "          await google.colab.kernel.invokeFunction('convertToInteractive',\n",
              "                                                    [key], {});\n",
              "        if (!dataTable) return;\n",
              "\n",
              "        const docLinkHtml = 'Like what you see? Visit the ' +\n",
              "          '<a target=\"_blank\" href=https://colab.research.google.com/notebooks/data_table.ipynb>data table notebook</a>'\n",
              "          + ' to learn more about interactive tables.';\n",
              "        element.innerHTML = '';\n",
              "        dataTable['output_type'] = 'display_data';\n",
              "        await google.colab.output.renderOutput(dataTable, element);\n",
              "        const docLink = document.createElement('div');\n",
              "        docLink.innerHTML = docLinkHtml;\n",
              "        element.appendChild(docLink);\n",
              "      }\n",
              "    </script>\n",
              "  </div>\n",
              "\n",
              "\n",
              "    </div>\n",
              "  </div>\n"
            ],
            "application/vnd.google.colaboratory.intrinsic+json": {
              "type": "dataframe",
              "summary": "{\n  \"name\": \"df[df['Age']=='36-50']==True\",\n  \"rows\": 0,\n  \"fields\": [\n    {\n      \"column\": \"User_ID\",\n      \"properties\": {\n        \"dtype\": \"boolean\",\n        \"num_unique_values\": 0,\n        \"samples\": [],\n        \"semantic_type\": \"\",\n        \"description\": \"\"\n      }\n    },\n    {\n      \"column\": \"Product_ID\",\n      \"properties\": {\n        \"dtype\": \"boolean\",\n        \"num_unique_values\": 0,\n        \"samples\": [],\n        \"semantic_type\": \"\",\n        \"description\": \"\"\n      }\n    },\n    {\n      \"column\": \"Gender\",\n      \"properties\": {\n        \"dtype\": \"boolean\",\n        \"num_unique_values\": 0,\n        \"samples\": [],\n        \"semantic_type\": \"\",\n        \"description\": \"\"\n      }\n    },\n    {\n      \"column\": \"Age\",\n      \"properties\": {\n        \"dtype\": \"boolean\",\n        \"num_unique_values\": 0,\n        \"samples\": [],\n        \"semantic_type\": \"\",\n        \"description\": \"\"\n      }\n    },\n    {\n      \"column\": \"Occupation\",\n      \"properties\": {\n        \"dtype\": \"boolean\",\n        \"num_unique_values\": 0,\n        \"samples\": [],\n        \"semantic_type\": \"\",\n        \"description\": \"\"\n      }\n    },\n    {\n      \"column\": \"City_Category\",\n      \"properties\": {\n        \"dtype\": \"boolean\",\n        \"num_unique_values\": 0,\n        \"samples\": [],\n        \"semantic_type\": \"\",\n        \"description\": \"\"\n      }\n    },\n    {\n      \"column\": \"Stay_In_Current_City_Years\",\n      \"properties\": {\n        \"dtype\": \"boolean\",\n        \"num_unique_values\": 0,\n        \"samples\": [],\n        \"semantic_type\": \"\",\n        \"description\": \"\"\n      }\n    },\n    {\n      \"column\": \"Marital_Status\",\n      \"properties\": {\n        \"dtype\": \"boolean\",\n        \"num_unique_values\": 0,\n        \"samples\": [],\n        \"semantic_type\": \"\",\n        \"description\": \"\"\n      }\n    },\n    {\n      \"column\": \"Product_Category\",\n      \"properties\": {\n        \"dtype\": \"boolean\",\n        \"num_unique_values\": 0,\n        \"samples\": [],\n        \"semantic_type\": \"\",\n        \"description\": \"\"\n      }\n    },\n    {\n      \"column\": \"Purchase\",\n      \"properties\": {\n        \"dtype\": \"boolean\",\n        \"num_unique_values\": 0,\n        \"samples\": [],\n        \"semantic_type\": \"\",\n        \"description\": \"\"\n      }\n    }\n  ]\n}"
            }
          },
          "metadata": {},
          "execution_count": 20
        }
      ]
    },
    {
      "cell_type": "markdown",
      "source": [
        "#7 ) Give recommendations and action items to Walmart."
      ],
      "metadata": {
        "id": "gvDeSegHA0PI"
      }
    },
    {
      "cell_type": "markdown",
      "source": [
        "Summary :     \n",
        "- Male customers spend more than female customers\n",
        "- Married people are spending more than the unmarried\n",
        "- Age groups ['26-35'] and ['51+'] are the highest spending segments"
      ],
      "metadata": {
        "id": "lB5jXpoS70Kf"
      }
    },
    {
      "cell_type": "markdown",
      "source": [
        "Insights and Recommandation\\\n",
        "1) Segment specific marketing\n",
        "\n",
        "|Segment               |Insight                 |Action item\n",
        "|----------------------|---------------------------|----------------------|\n",
        "|Male                  |Higher spending overall    |Promote high value products\n",
        "|Female                |Lower spending overall     |Offer discounts\n",
        "|Married               |Likely shopping for family |Push family packs, groceries\n",
        "|Unmarried             |Spending on personal thongs|Target Fashion and gadgets\n",
        "|51+                   |Peak spending group        |Senior healthcare"
      ],
      "metadata": {
        "id": "GvsVCQVk8mIz"
      }
    },
    {
      "cell_type": "markdown",
      "source": [
        "2) Product placement strategy\n",
        "- Store level and online banners should reflect the most relevent products to the dominant customer profile\n",
        "- Create category banners differently for each age group :        \n",
        "  - For Young adults : Fashion , Gadgets\n",
        "  - For Mid age adults : Groceries, Parenting items\n",
        "  - For seniors : Healthcare"
      ],
      "metadata": {
        "id": "8i7OrsUjBA7M"
      }
    },
    {
      "cell_type": "markdown",
      "source": [
        "3) Special offers\n",
        "- Special offers on wedding season for newly wed couple\n",
        "- Back to school / College promos for youngers\n",
        "- Holiday bundles for mid aged groups with family"
      ],
      "metadata": {
        "id": "vIeIlBzUDOkq"
      }
    },
    {
      "cell_type": "markdown",
      "source": [
        "By leveraging demographic-specific purchasing behavior, Walmart can -\n",
        "- Boost revenue through targeted marketing\n",
        "- Enhance customer satisfaction via personalization\n",
        "- Optimize inventory and campaigns with confidence interval based insights"
      ],
      "metadata": {
        "id": "_6I_yDXVENK8"
      }
    },
    {
      "cell_type": "markdown",
      "source": [
        "#1 ) Defining Problem Statement and Analyzing basic metrics (10 Points)"
      ],
      "metadata": {
        "id": "Y-5jDT41wVKZ"
      }
    },
    {
      "cell_type": "markdown",
      "source": [
        "Walmart, a leading multinational retail corporation, seeks to analyze the purchasing behavior of its customers to make data-driven business decisions. The key objective to evaluate whether there is a significant difference between prchase amount of male and female customers. In addition to gender, age, marital status, occupation, city category will also be analyzed to uncover patterns that influence consumer spending.\n",
        "The insights gained will enable Walmart to personalize offers, optimize inventory planning, and enhance overall customer satisfaction."
      ],
      "metadata": {
        "id": "XZXnfwqcyybT"
      }
    },
    {
      "cell_type": "markdown",
      "source": [
        "1. Observations on shape of data, data types of all the attributes, conversion of categorical attributes to 'category' (If required), statistical summary"
      ],
      "metadata": {
        "id": "qpj0_qpw0Y5X"
      }
    },
    {
      "cell_type": "code",
      "source": [
        "df.shape"
      ],
      "metadata": {
        "id": "reZbRyTW6_S0",
        "colab": {
          "base_uri": "https://localhost:8080/"
        },
        "outputId": "12c3c49b-03dd-4058-82ce-8cd33653f977"
      },
      "execution_count": null,
      "outputs": [
        {
          "output_type": "execute_result",
          "data": {
            "text/plain": [
              "(75132, 10)"
            ]
          },
          "metadata": {},
          "execution_count": 21
        }
      ]
    },
    {
      "cell_type": "code",
      "source": [
        "df.dtypes"
      ],
      "metadata": {
        "colab": {
          "base_uri": "https://localhost:8080/",
          "height": 397
        },
        "id": "FxaJSKnh0e5D",
        "outputId": "25f2f62a-774c-4b44-9cee-4a88f3b15f65"
      },
      "execution_count": null,
      "outputs": [
        {
          "output_type": "execute_result",
          "data": {
            "text/plain": [
              "User_ID                         int64\n",
              "Product_ID                     object\n",
              "Gender                         object\n",
              "Age                            object\n",
              "Occupation                    float64\n",
              "City_Category                  object\n",
              "Stay_In_Current_City_Years     object\n",
              "Marital_Status                float64\n",
              "Product_Category              float64\n",
              "Purchase                      float64\n",
              "dtype: object"
            ],
            "text/html": [
              "<div>\n",
              "<style scoped>\n",
              "    .dataframe tbody tr th:only-of-type {\n",
              "        vertical-align: middle;\n",
              "    }\n",
              "\n",
              "    .dataframe tbody tr th {\n",
              "        vertical-align: top;\n",
              "    }\n",
              "\n",
              "    .dataframe thead th {\n",
              "        text-align: right;\n",
              "    }\n",
              "</style>\n",
              "<table border=\"1\" class=\"dataframe\">\n",
              "  <thead>\n",
              "    <tr style=\"text-align: right;\">\n",
              "      <th></th>\n",
              "      <th>0</th>\n",
              "    </tr>\n",
              "  </thead>\n",
              "  <tbody>\n",
              "    <tr>\n",
              "      <th>User_ID</th>\n",
              "      <td>int64</td>\n",
              "    </tr>\n",
              "    <tr>\n",
              "      <th>Product_ID</th>\n",
              "      <td>object</td>\n",
              "    </tr>\n",
              "    <tr>\n",
              "      <th>Gender</th>\n",
              "      <td>object</td>\n",
              "    </tr>\n",
              "    <tr>\n",
              "      <th>Age</th>\n",
              "      <td>object</td>\n",
              "    </tr>\n",
              "    <tr>\n",
              "      <th>Occupation</th>\n",
              "      <td>float64</td>\n",
              "    </tr>\n",
              "    <tr>\n",
              "      <th>City_Category</th>\n",
              "      <td>object</td>\n",
              "    </tr>\n",
              "    <tr>\n",
              "      <th>Stay_In_Current_City_Years</th>\n",
              "      <td>object</td>\n",
              "    </tr>\n",
              "    <tr>\n",
              "      <th>Marital_Status</th>\n",
              "      <td>float64</td>\n",
              "    </tr>\n",
              "    <tr>\n",
              "      <th>Product_Category</th>\n",
              "      <td>float64</td>\n",
              "    </tr>\n",
              "    <tr>\n",
              "      <th>Purchase</th>\n",
              "      <td>float64</td>\n",
              "    </tr>\n",
              "  </tbody>\n",
              "</table>\n",
              "</div><br><label><b>dtype:</b> object</label>"
            ]
          },
          "metadata": {},
          "execution_count": 22
        }
      ]
    },
    {
      "cell_type": "code",
      "source": [
        "cat_cols = ['Product_ID', 'Gender', 'Age', 'City_Category', 'Stay_In_Current_City_Years']\n",
        "df[cat_cols]=df[cat_cols].astype('category')"
      ],
      "metadata": {
        "id": "O6rXmr3f2H9A"
      },
      "execution_count": null,
      "outputs": []
    },
    {
      "cell_type": "code",
      "source": [
        "print('Summary of numerical data',df.describe())"
      ],
      "metadata": {
        "colab": {
          "base_uri": "https://localhost:8080/"
        },
        "id": "8zdrQSgX28Ze",
        "outputId": "0e1918c3-437a-427b-c626-967e944f5591"
      },
      "execution_count": null,
      "outputs": [
        {
          "output_type": "stream",
          "name": "stdout",
          "text": [
            "Summary of numerical data             User_ID    Occupation  Marital_Status  Product_Category  \\\n",
            "count  7.513200e+04  75132.000000    75132.000000      75132.000000   \n",
            "mean   1.002905e+06      8.102500        0.406937          5.302228   \n",
            "std    1.671891e+03      6.514722        0.491266          3.728501   \n",
            "min    1.000001e+06      0.000000        0.000000          1.000000   \n",
            "25%    1.001447e+06      2.000000        0.000000          1.000000   \n",
            "50%    1.002946e+06      7.000000        0.000000          5.000000   \n",
            "75%    1.004310e+06     14.000000        1.000000          8.000000   \n",
            "max    1.006040e+06     20.000000        1.000000         18.000000   \n",
            "\n",
            "           Purchase  \n",
            "count  75132.000000  \n",
            "mean    9298.807619  \n",
            "std     4965.135617  \n",
            "min      185.000000  \n",
            "25%     5863.000000  \n",
            "50%     8051.000000  \n",
            "75%    12043.000000  \n",
            "max    23958.000000  \n"
          ]
        }
      ]
    },
    {
      "cell_type": "code",
      "source": [
        "print('Summary of categorical data',df.describe(include='category'))"
      ],
      "metadata": {
        "colab": {
          "base_uri": "https://localhost:8080/"
        },
        "id": "Fg4ZYJ_-393c",
        "outputId": "c6987375-b93b-4694-df3d-637dcb07f9a0"
      },
      "execution_count": null,
      "outputs": [
        {
          "output_type": "stream",
          "name": "stdout",
          "text": [
            "Summary of categorical data        Product_ID Gender    Age City_Category Stay_In_Current_City_Years\n",
            "count       75132  75132  75132         75132                      75132\n",
            "unique       3228      2      7             3                          5\n",
            "top     P00265242      M  26-35             B                          1\n",
            "freq          237  56979  29694         31926                      26365\n"
          ]
        }
      ]
    },
    {
      "cell_type": "markdown",
      "source": [
        "2. Non-Graphical Analysis: Value counts and unique attributes"
      ],
      "metadata": {
        "id": "lkHHb1p66lVS"
      }
    },
    {
      "cell_type": "code",
      "source": [
        "df.nunique()"
      ],
      "metadata": {
        "colab": {
          "base_uri": "https://localhost:8080/",
          "height": 397
        },
        "id": "8lvXFmqE4SCm",
        "outputId": "9c3cb899-b258-4273-de64-10bc3a345644"
      },
      "execution_count": null,
      "outputs": [
        {
          "output_type": "execute_result",
          "data": {
            "text/plain": [
              "User_ID                        5692\n",
              "Product_ID                     3228\n",
              "Gender                            2\n",
              "Age                               7\n",
              "Occupation                       21\n",
              "City_Category                     3\n",
              "Stay_In_Current_City_Years        5\n",
              "Marital_Status                    2\n",
              "Product_Category                 18\n",
              "Purchase                      13038\n",
              "dtype: int64"
            ],
            "text/html": [
              "<div>\n",
              "<style scoped>\n",
              "    .dataframe tbody tr th:only-of-type {\n",
              "        vertical-align: middle;\n",
              "    }\n",
              "\n",
              "    .dataframe tbody tr th {\n",
              "        vertical-align: top;\n",
              "    }\n",
              "\n",
              "    .dataframe thead th {\n",
              "        text-align: right;\n",
              "    }\n",
              "</style>\n",
              "<table border=\"1\" class=\"dataframe\">\n",
              "  <thead>\n",
              "    <tr style=\"text-align: right;\">\n",
              "      <th></th>\n",
              "      <th>0</th>\n",
              "    </tr>\n",
              "  </thead>\n",
              "  <tbody>\n",
              "    <tr>\n",
              "      <th>User_ID</th>\n",
              "      <td>5692</td>\n",
              "    </tr>\n",
              "    <tr>\n",
              "      <th>Product_ID</th>\n",
              "      <td>3228</td>\n",
              "    </tr>\n",
              "    <tr>\n",
              "      <th>Gender</th>\n",
              "      <td>2</td>\n",
              "    </tr>\n",
              "    <tr>\n",
              "      <th>Age</th>\n",
              "      <td>7</td>\n",
              "    </tr>\n",
              "    <tr>\n",
              "      <th>Occupation</th>\n",
              "      <td>21</td>\n",
              "    </tr>\n",
              "    <tr>\n",
              "      <th>City_Category</th>\n",
              "      <td>3</td>\n",
              "    </tr>\n",
              "    <tr>\n",
              "      <th>Stay_In_Current_City_Years</th>\n",
              "      <td>5</td>\n",
              "    </tr>\n",
              "    <tr>\n",
              "      <th>Marital_Status</th>\n",
              "      <td>2</td>\n",
              "    </tr>\n",
              "    <tr>\n",
              "      <th>Product_Category</th>\n",
              "      <td>18</td>\n",
              "    </tr>\n",
              "    <tr>\n",
              "      <th>Purchase</th>\n",
              "      <td>13038</td>\n",
              "    </tr>\n",
              "  </tbody>\n",
              "</table>\n",
              "</div><br><label><b>dtype:</b> int64</label>"
            ]
          },
          "metadata": {},
          "execution_count": 26
        }
      ]
    },
    {
      "cell_type": "code",
      "source": [
        "df.value_counts()"
      ],
      "metadata": {
        "colab": {
          "base_uri": "https://localhost:8080/",
          "height": 490
        },
        "id": "ynK6RzB34b4A",
        "outputId": "3aed374d-aaa4-4e5f-a7d6-1d82ab24abd9"
      },
      "execution_count": null,
      "outputs": [
        {
          "output_type": "execute_result",
          "data": {
            "text/plain": [
              "User_ID  Product_ID  Gender  Age    Occupation  City_Category  Stay_In_Current_City_Years  Marital_Status  Product_Category  Purchase\n",
              "1006040  P00300542   M       26-35  6.0         B              2                           0.0             8.0               9751.0      1\n",
              "1000001  P00069042   F       0-17   10.0        A              2                           0.0             3.0               8370.0      1\n",
              "         P00085442   F       0-17   10.0        A              2                           0.0             12.0              1057.0      1\n",
              "         P00085942   F       0-17   10.0        A              2                           0.0             2.0               12842.0     1\n",
              "         P00087842   F       0-17   10.0        A              2                           0.0             12.0              1422.0      1\n",
              "                                                                                                                                        ..\n",
              "1000004  P00346142   M       46-50  7.0         B              2                           1.0             1.0               15854.0     1\n",
              "         P00184942   M       46-50  7.0         B              2                           1.0             1.0               19215.0     1\n",
              "         P00046742   M       46-50  7.0         B              2                           1.0             1.0               15852.0     1\n",
              "1000003  P0098342    M       26-35  15.0        A              3                           0.0             1.0               15424.0     1\n",
              "         P00193542   M       26-35  15.0        A              3                           0.0             1.0               15227.0     1\n",
              "Name: count, Length: 75132, dtype: int64"
            ],
            "text/html": [
              "<div>\n",
              "<style scoped>\n",
              "    .dataframe tbody tr th:only-of-type {\n",
              "        vertical-align: middle;\n",
              "    }\n",
              "\n",
              "    .dataframe tbody tr th {\n",
              "        vertical-align: top;\n",
              "    }\n",
              "\n",
              "    .dataframe thead th {\n",
              "        text-align: right;\n",
              "    }\n",
              "</style>\n",
              "<table border=\"1\" class=\"dataframe\">\n",
              "  <thead>\n",
              "    <tr style=\"text-align: right;\">\n",
              "      <th></th>\n",
              "      <th></th>\n",
              "      <th></th>\n",
              "      <th></th>\n",
              "      <th></th>\n",
              "      <th></th>\n",
              "      <th></th>\n",
              "      <th></th>\n",
              "      <th></th>\n",
              "      <th></th>\n",
              "      <th>count</th>\n",
              "    </tr>\n",
              "    <tr>\n",
              "      <th>User_ID</th>\n",
              "      <th>Product_ID</th>\n",
              "      <th>Gender</th>\n",
              "      <th>Age</th>\n",
              "      <th>Occupation</th>\n",
              "      <th>City_Category</th>\n",
              "      <th>Stay_In_Current_City_Years</th>\n",
              "      <th>Marital_Status</th>\n",
              "      <th>Product_Category</th>\n",
              "      <th>Purchase</th>\n",
              "      <th></th>\n",
              "    </tr>\n",
              "  </thead>\n",
              "  <tbody>\n",
              "    <tr>\n",
              "      <th>1006040</th>\n",
              "      <th>P00300542</th>\n",
              "      <th>M</th>\n",
              "      <th>26-35</th>\n",
              "      <th>6.0</th>\n",
              "      <th>B</th>\n",
              "      <th>2</th>\n",
              "      <th>0.0</th>\n",
              "      <th>8.0</th>\n",
              "      <th>9751.0</th>\n",
              "      <td>1</td>\n",
              "    </tr>\n",
              "    <tr>\n",
              "      <th rowspan=\"4\" valign=\"top\">1000001</th>\n",
              "      <th>P00069042</th>\n",
              "      <th>F</th>\n",
              "      <th>0-17</th>\n",
              "      <th>10.0</th>\n",
              "      <th>A</th>\n",
              "      <th>2</th>\n",
              "      <th>0.0</th>\n",
              "      <th>3.0</th>\n",
              "      <th>8370.0</th>\n",
              "      <td>1</td>\n",
              "    </tr>\n",
              "    <tr>\n",
              "      <th>P00085442</th>\n",
              "      <th>F</th>\n",
              "      <th>0-17</th>\n",
              "      <th>10.0</th>\n",
              "      <th>A</th>\n",
              "      <th>2</th>\n",
              "      <th>0.0</th>\n",
              "      <th>12.0</th>\n",
              "      <th>1057.0</th>\n",
              "      <td>1</td>\n",
              "    </tr>\n",
              "    <tr>\n",
              "      <th>P00085942</th>\n",
              "      <th>F</th>\n",
              "      <th>0-17</th>\n",
              "      <th>10.0</th>\n",
              "      <th>A</th>\n",
              "      <th>2</th>\n",
              "      <th>0.0</th>\n",
              "      <th>2.0</th>\n",
              "      <th>12842.0</th>\n",
              "      <td>1</td>\n",
              "    </tr>\n",
              "    <tr>\n",
              "      <th>P00087842</th>\n",
              "      <th>F</th>\n",
              "      <th>0-17</th>\n",
              "      <th>10.0</th>\n",
              "      <th>A</th>\n",
              "      <th>2</th>\n",
              "      <th>0.0</th>\n",
              "      <th>12.0</th>\n",
              "      <th>1422.0</th>\n",
              "      <td>1</td>\n",
              "    </tr>\n",
              "    <tr>\n",
              "      <th>...</th>\n",
              "      <th>...</th>\n",
              "      <th>...</th>\n",
              "      <th>...</th>\n",
              "      <th>...</th>\n",
              "      <th>...</th>\n",
              "      <th>...</th>\n",
              "      <th>...</th>\n",
              "      <th>...</th>\n",
              "      <th>...</th>\n",
              "      <td>...</td>\n",
              "    </tr>\n",
              "    <tr>\n",
              "      <th rowspan=\"3\" valign=\"top\">1000004</th>\n",
              "      <th>P00346142</th>\n",
              "      <th>M</th>\n",
              "      <th>46-50</th>\n",
              "      <th>7.0</th>\n",
              "      <th>B</th>\n",
              "      <th>2</th>\n",
              "      <th>1.0</th>\n",
              "      <th>1.0</th>\n",
              "      <th>15854.0</th>\n",
              "      <td>1</td>\n",
              "    </tr>\n",
              "    <tr>\n",
              "      <th>P00184942</th>\n",
              "      <th>M</th>\n",
              "      <th>46-50</th>\n",
              "      <th>7.0</th>\n",
              "      <th>B</th>\n",
              "      <th>2</th>\n",
              "      <th>1.0</th>\n",
              "      <th>1.0</th>\n",
              "      <th>19215.0</th>\n",
              "      <td>1</td>\n",
              "    </tr>\n",
              "    <tr>\n",
              "      <th>P00046742</th>\n",
              "      <th>M</th>\n",
              "      <th>46-50</th>\n",
              "      <th>7.0</th>\n",
              "      <th>B</th>\n",
              "      <th>2</th>\n",
              "      <th>1.0</th>\n",
              "      <th>1.0</th>\n",
              "      <th>15852.0</th>\n",
              "      <td>1</td>\n",
              "    </tr>\n",
              "    <tr>\n",
              "      <th rowspan=\"2\" valign=\"top\">1000003</th>\n",
              "      <th>P0098342</th>\n",
              "      <th>M</th>\n",
              "      <th>26-35</th>\n",
              "      <th>15.0</th>\n",
              "      <th>A</th>\n",
              "      <th>3</th>\n",
              "      <th>0.0</th>\n",
              "      <th>1.0</th>\n",
              "      <th>15424.0</th>\n",
              "      <td>1</td>\n",
              "    </tr>\n",
              "    <tr>\n",
              "      <th>P00193542</th>\n",
              "      <th>M</th>\n",
              "      <th>26-35</th>\n",
              "      <th>15.0</th>\n",
              "      <th>A</th>\n",
              "      <th>3</th>\n",
              "      <th>0.0</th>\n",
              "      <th>1.0</th>\n",
              "      <th>15227.0</th>\n",
              "      <td>1</td>\n",
              "    </tr>\n",
              "  </tbody>\n",
              "</table>\n",
              "<p>75132 rows × 1 columns</p>\n",
              "</div><br><label><b>dtype:</b> int64</label>"
            ]
          },
          "metadata": {},
          "execution_count": 27
        }
      ]
    },
    {
      "cell_type": "markdown",
      "source": [
        "3. Visual Analysis - Univariate & Bivariate\n",
        "- For continuous variable(s): Distplot, countplot, histogram for univariate analysis\n",
        "- For categorical variable(s): Boxplot\n",
        "- For correlation: Heatmaps, Pairplots\n"
      ],
      "metadata": {
        "id": "2R-yd4tN6nzG"
      }
    },
    {
      "cell_type": "code",
      "source": [
        "# for continuous variables\n",
        "sns.distplot(df['Purchase'], kde=True)\n",
        "plt.title('Distribution pf purchase amount')\n",
        "plt.show()"
      ],
      "metadata": {
        "colab": {
          "base_uri": "https://localhost:8080/",
          "height": 667
        },
        "id": "5aS1ATBj4hbT",
        "outputId": "e5ae83bf-ad3c-4e41-c561-e221c800b14f"
      },
      "execution_count": null,
      "outputs": [
        {
          "output_type": "stream",
          "name": "stderr",
          "text": [
            "<ipython-input-28-fcce7ff89e55>:2: UserWarning: \n",
            "\n",
            "`distplot` is a deprecated function and will be removed in seaborn v0.14.0.\n",
            "\n",
            "Please adapt your code to use either `displot` (a figure-level function with\n",
            "similar flexibility) or `histplot` (an axes-level function for histograms).\n",
            "\n",
            "For a guide to updating your code to use the new functions, please see\n",
            "https://gist.github.com/mwaskom/de44147ed2974457ad6372750bbe5751\n",
            "\n",
            "  sns.distplot(df['Purchase'], kde=True)\n"
          ]
        },
        {
          "output_type": "display_data",
          "data": {
            "text/plain": [
              "<Figure size 640x480 with 1 Axes>"
            ],
            "image/png": "[encoded data removed]"
          },
          "metadata": {}
        }
      ]
    },
    {
      "cell_type": "code",
      "source": [
        "# for categorical\n",
        "sns.countplot(x='Gender', data=df)\n",
        "plt.title(\"Gender Distribution\")\n",
        "plt.show()\n",
        "\n",
        "sns.countplot(x='Marital_Status', data=df)\n",
        "plt.title(\"Marital Status Distribution\")\n",
        "plt.show()"
      ],
      "metadata": {
        "colab": {
          "base_uri": "https://localhost:8080/",
          "height": 927
        },
        "id": "VEnbrzDJ7jiz",
        "outputId": "a919df1d-321d-4d8e-8a21-253fb8ee33f7"
      },
      "execution_count": null,
      "outputs": [
        {
          "output_type": "display_data",
          "data": {
            "text/plain": [
              "<Figure size 640x480 with 1 Axes>"
            ],
            "image/png": "[encoded data removed]"
          },
          "metadata": {}
        },
        {
          "output_type": "display_data",
          "data": {
            "text/plain": [
              "<Figure size 640x480 with 1 Axes>"
            ],
            "image/png": "[encoded data removed]"
          },
          "metadata": {}
        }
      ]
    },
    {
      "cell_type": "code",
      "source": [
        "sns.barplot(x=gender_avg.index, y=gender_avg.values)\n",
        "plt.title('Average Purchase by Gender')\n",
        "plt.xlabel('Gender')\n",
        "plt.ylabel('Average Purchase')\n",
        "plt.show()"
      ],
      "metadata": {
        "colab": {
          "base_uri": "https://localhost:8080/",
          "height": 472
        },
        "outputId": "9a3f9c9a-1122-425e-db09-af1dc0c37d98",
        "id": "3O-3wROVHNMs"
      },
      "execution_count": null,
      "outputs": [
        {
          "output_type": "display_data",
          "data": {
            "text/plain": [
              "<Figure size 640x480 with 1 Axes>"
            ],
            "image/png": "[encoded data removed]"
          },
          "metadata": {}
        }
      ]
    },
    {
      "cell_type": "code",
      "source": [
        "sns.heatmap(df.corr(numeric_only=True), annot=True, cmap='coolwarm')\n",
        "plt.title(\"Correlation Heatmap\")\n",
        "plt.show()\n",
        "\n",
        "# For continuous variables only\n",
        "sns.pairplot(df[['Purchase']])\n",
        "plt.show()\n"
      ],
      "metadata": {
        "colab": {
          "base_uri": "https://localhost:8080/",
          "height": 813
        },
        "id": "yMuj1Rkl8Y6i",
        "outputId": "a2f4217e-e794-4f51-a119-8452b467a507"
      },
      "execution_count": null,
      "outputs": [
        {
          "output_type": "display_data",
          "data": {
            "text/plain": [
              "<Figure size 640x480 with 2 Axes>"
            ],
            "image/png": "[encoded data removed]"
          },
          "metadata": {}
        },
        {
          "output_type": "display_data",
          "data": {
            "text/plain": [
              "<Figure size 250x250 with 2 Axes>"
            ],
            "image/png": "[encoded data removed]"
          },
          "metadata": {}
        }
      ]
    },
    {
      "cell_type": "code",
      "source": [
        "#Boxplot for category vs caontinuous\n",
        "sns.boxplot(x='Gender', y='Purchase', data=df)\n",
        "plt.title(\"Gender vs Purchase Amount\")\n",
        "plt.show()\n",
        "\n",
        "sns.boxplot(x='Age', y='Purchase', data=df)\n",
        "plt.title(\"Age vs Purchase Amount\")\n",
        "plt.xticks(rotation=45)\n",
        "plt.show()\n"
      ],
      "metadata": {
        "colab": {
          "base_uri": "https://localhost:8080/",
          "height": 951
        },
        "id": "qhsdiM1MZXmC",
        "outputId": "c670c811-7d59-4e5b-9ab2-9c1ed0a97d48"
      },
      "execution_count": null,
      "outputs": [
        {
          "output_type": "display_data",
          "data": {
            "text/plain": [
              "<Figure size 640x480 with 1 Axes>"
            ],
            "image/png": "[encoded data removed]"
          },
          "metadata": {}
        },
        {
          "output_type": "display_data",
          "data": {
            "text/plain": [
              "<Figure size 640x480 with 1 Axes>"
            ],
            "image/png": "[encoded data removed]"
          },
          "metadata": {}
        }
      ]
    },
    {
      "cell_type": "markdown",
      "source": [
        "#2 ) Missing Value & Outlier Detection (10 Points)"
      ],
      "metadata": {
        "id": "4UQkShjc9k05"
      }
    },
    {
      "cell_type": "markdown",
      "source": [
        "There was only two null values, one in purchase and one in a product category"
      ],
      "metadata": {
        "id": "a-10AVJxEI1e"
      }
    },
    {
      "cell_type": "code",
      "source": [
        "print(\"Null counts after dropping rows with missing values:\")\n",
        "print(df.isnull().sum())"
      ],
      "metadata": {
        "colab": {
          "base_uri": "https://localhost:8080/"
        },
        "outputId": "922e3367-ad2d-45f1-a9b6-614b234f5421",
        "id": "nCZ6gaEyEWQ9"
      },
      "execution_count": null,
      "outputs": [
        {
          "output_type": "stream",
          "name": "stdout",
          "text": [
            "Null counts after dropping rows with missing values:\n",
            "User_ID                       0\n",
            "Product_ID                    0\n",
            "Gender                        0\n",
            "Age                           0\n",
            "Occupation                    0\n",
            "City_Category                 0\n",
            "Stay_In_Current_City_Years    0\n",
            "Marital_Status                0\n",
            "Product_Category              0\n",
            "Purchase                      0\n",
            "dtype: int64\n"
          ]
        }
      ]
    },
    {
      "cell_type": "code",
      "source": [
        "plt.figure(figsize=(10, 6))\n",
        "sns.boxplot(x=df['Purchase'])\n",
        "plt.title('Box Plot of Purchase')\n",
        "plt.show()"
      ],
      "metadata": {
        "colab": {
          "base_uri": "https://localhost:8080/",
          "height": 564
        },
        "outputId": "88a3b725-506e-4fdd-cdac-4eaf6ce15cfe",
        "id": "0N4JSb-JEuaa"
      },
      "execution_count": null,
      "outputs": [
        {
          "output_type": "display_data",
          "data": {
            "text/plain": [
              "<Figure size 1000x600 with 1 Axes>"
            ],
            "image/png": "[encoded data removed]"
          },
          "metadata": {}
        }
      ]
    },
    {
      "cell_type": "code",
      "source": [
        "sns.boxplot(x='Gender', y='Purchase', data=df)\n",
        "plt.title(\"Gender vs Purchase Amount\")\n",
        "plt.show()\n",
        "\n",
        "sns.boxplot(x='Age', y='Purchase', data=df)\n",
        "plt.title(\"Age vs Purchase Amount\")\n",
        "plt.xticks(rotation=45)\n",
        "plt.show()"
      ],
      "metadata": {
        "colab": {
          "base_uri": "https://localhost:8080/",
          "height": 951
        },
        "id": "qRICcIlCf0pp",
        "outputId": "63e84d00-e7fb-4ca6-fe22-0c4e24323dd9"
      },
      "execution_count": null,
      "outputs": [
        {
          "output_type": "display_data",
          "data": {
            "text/plain": [
              "<Figure size 640x480 with 1 Axes>"
            ],
            "image/png": "[encoded data removed]"
          },
          "metadata": {}
        },
        {
          "output_type": "display_data",
          "data": {
            "text/plain": [
              "<Figure size 640x480 with 1 Axes>"
            ],
            "image/png": "[encoded data removed]"
          },
          "metadata": {}
        }
      ]
    },
    {
      "cell_type": "markdown",
      "source": [
        "#3 ) Business Insights based on Non- Graphical and Visual Analysis (10 Points)\n"
      ],
      "metadata": {
        "id": "8GHel8h_FFug"
      }
    },
    {
      "cell_type": "markdown",
      "source": [
        "- Comments on the range of attributes\n",
        "- Comments on the distribution of the variables and relationship between them\n",
        "- Comments for each univariate and bivariate plot\n"
      ],
      "metadata": {
        "id": "8yxvO65RE-6p"
      }
    },
    {
      "cell_type": "code",
      "source": [
        "df['Purchase'].max()"
      ],
      "metadata": {
        "colab": {
          "base_uri": "https://localhost:8080/"
        },
        "id": "vrYIuZDjEuwr",
        "outputId": "86fcf91f-4ede-4a35-f9c2-bf85133ab900"
      },
      "execution_count": null,
      "outputs": [
        {
          "output_type": "execute_result",
          "data": {
            "text/plain": [
              "23958.0"
            ]
          },
          "metadata": {},
          "execution_count": 40
        }
      ]
    },
    {
      "cell_type": "code",
      "source": [
        "df['Purchase'].min()"
      ],
      "metadata": {
        "colab": {
          "base_uri": "https://localhost:8080/"
        },
        "id": "0YS3l5KJIA8b",
        "outputId": "9e0defa0-e63a-463a-e765-7f14291f2e0a"
      },
      "execution_count": null,
      "outputs": [
        {
          "output_type": "execute_result",
          "data": {
            "text/plain": [
              "185.0"
            ]
          },
          "metadata": {},
          "execution_count": 41
        }
      ]
    },
    {
      "cell_type": "markdown",
      "source": [
        "1. Comments on the range of attributes"
      ],
      "metadata": {
        "id": "vhw8OUClaGTv"
      }
    },
    {
      "cell_type": "markdown",
      "source": [
        "- Purchase amount ranges from a minimum of 185 to maximum of 23985, indicating a wide range of spending behaviors.\n",
        "- User id and Product id are anonymized but both a large number of unique values, confirming good data diversity.\n",
        "- Categorical variables like Gender, Age, Marital status, City category have well-distributed value counts."
      ],
      "metadata": {
        "id": "czqLDouYaI8C"
      }
    },
    {
      "cell_type": "markdown",
      "source": [
        "2. Comments on the distribution of the variables and relationship between them"
      ],
      "metadata": {
        "id": "IjlS8ToCbkBN"
      }
    },
    {
      "cell_type": "markdown",
      "source": [
        "- Gender\n",
        "     - Male customers are more than female customers.\n",
        "     - Walmart should focus on the female-focused campaigns.\n",
        "- Age\n",
        "     - Age group of 26-35 and 51+ have the most active customer segment.\n",
        "     - Promotions should target on this age group for maximum impact.\n",
        "- Marital status\n",
        "     - Married customers are spending on purchase more than unmarried.\n",
        "     - Married people represent the family-focused products, so product bundles for families would work well.\n",
        "- Purchase\n",
        "     - The distribution is right-skewed as many are spending between 0-10000 and few are spending more.\n",
        "     - High spenders are low, so Walmart should launch loyalty programs for these customers to boost retention.\n",
        "- Gender vs Purchase\n",
        "     - Males show the slightly higher purchase than the females.\n",
        "- Age vs Purchase\n",
        "     - Age group of 26-35 and 51+ are spending more.\n",
        "- Marital status vs Purchase\n",
        "     - Married customers are spending more than unmarried"
      ],
      "metadata": {
        "id": "mf1WaUd0bly3"
      }
    },
    {
      "cell_type": "markdown",
      "source": [
        "3. Comments for each univariate and bivariate plot"
      ],
      "metadata": {
        "id": "dePLcMNIfOpV"
      }
    },
    {
      "cell_type": "markdown",
      "source": [
        "- Purchase (distplot)\n",
        "      - The distribution of purchase is right-skewed as most of the customers are spending between 0-10000 and few are spending more.\n",
        "- Gender (Countplot)\n",
        "      - The count of male customers are more than female customers.\n",
        "- Marital status (Countplot)\n",
        "      - The count of unmarried customers are more than married customers but average spending of married customers are more than unmarried.\n",
        "- Gender vs Purchase (Boxplot)\n",
        "      - There are more outliers in the female customers list.\n",
        "- Age vs Purchase (Boxplot)\n",
        "      - As 51+ age group has most spending power, this group also consists most outliers."
      ],
      "metadata": {
        "id": "dn0-pIFxfTXD"
      }
    },
    {
      "cell_type": "markdown",
      "source": [
        "#4 ) Answering questions (50 Points)"
      ],
      "metadata": {
        "id": "FBbiCBBwjbns"
      }
    },
    {
      "cell_type": "markdown",
      "source": [
        "1. Are women spending more money per transaction than men? Why or Why not? (10 Points)"
      ],
      "metadata": {
        "id": "sH64Gf6cjeQN"
      }
    },
    {
      "cell_type": "markdown",
      "source": [
        "- No, women are not spending more per transaction than man.\n",
        "- On average, man customers have the slightly higher purchase than female customers based on both mean and boxplot analysis.\n",
        "\n",
        "Why ? \\\n",
        "This may be due to -\n",
        "- Man making higher value but fewer transactions.\n",
        "- Product preference differences.\n",
        "- A higher number of male tech and gadget purchases, which typically have higher price tags.\n",
        "\n",
        "Insight for Walmart        \n",
        "Walmart could encourage more high ticket purchases by female customers through -\n",
        "- Personalized promotions\n",
        "- Exclusive discounts\n",
        "- Bundling offers tageting female customers."
      ],
      "metadata": {
        "id": "4NVNG1ctmcg0"
      }
    },
    {
      "cell_type": "code",
      "source": [
        "df.groupby('Gender')['Purchase'].mean()"
      ],
      "metadata": {
        "colab": {
          "base_uri": "https://localhost:8080/",
          "height": 233
        },
        "id": "G1ljddrpk6s9",
        "outputId": "2e2e3a73-1268-43e6-febe-2814584c8a7e"
      },
      "execution_count": null,
      "outputs": [
        {
          "output_type": "stream",
          "name": "stderr",
          "text": [
            "<ipython-input-32-a45fe475426a>:1: FutureWarning: The default of observed=False is deprecated and will be changed to True in a future version of pandas. Pass observed=False to retain current behavior or observed=True to adopt the future default and silence this warning.\n",
            "  df.groupby('Gender')['Purchase'].mean()\n"
          ]
        },
        {
          "output_type": "execute_result",
          "data": {
            "text/plain": [
              "Gender\n",
              "F    8780.111166\n",
              "M    9464.059671\n",
              "Name: Purchase, dtype: float64"
            ],
            "text/html": [
              "<div>\n",
              "<style scoped>\n",
              "    .dataframe tbody tr th:only-of-type {\n",
              "        vertical-align: middle;\n",
              "    }\n",
              "\n",
              "    .dataframe tbody tr th {\n",
              "        vertical-align: top;\n",
              "    }\n",
              "\n",
              "    .dataframe thead th {\n",
              "        text-align: right;\n",
              "    }\n",
              "</style>\n",
              "<table border=\"1\" class=\"dataframe\">\n",
              "  <thead>\n",
              "    <tr style=\"text-align: right;\">\n",
              "      <th></th>\n",
              "      <th>Purchase</th>\n",
              "    </tr>\n",
              "    <tr>\n",
              "      <th>Gender</th>\n",
              "      <th></th>\n",
              "    </tr>\n",
              "  </thead>\n",
              "  <tbody>\n",
              "    <tr>\n",
              "      <th>F</th>\n",
              "      <td>8780.111166</td>\n",
              "    </tr>\n",
              "    <tr>\n",
              "      <th>M</th>\n",
              "      <td>9464.059671</td>\n",
              "    </tr>\n",
              "  </tbody>\n",
              "</table>\n",
              "</div><br><label><b>dtype:</b> float64</label>"
            ]
          },
          "metadata": {},
          "execution_count": 32
        }
      ]
    },
    {
      "cell_type": "code",
      "source": [
        "sns.boxplot(x='Gender', y='Purchase', data=df)\n",
        "plt.title(\"Gender vs Purchase Amount\")\n",
        "plt.show()"
      ],
      "metadata": {
        "colab": {
          "base_uri": "https://localhost:8080/",
          "height": 472
        },
        "id": "gjsPRrdTlJUJ",
        "outputId": "963e79f1-15d9-46ac-d707-47e13d977133"
      },
      "execution_count": null,
      "outputs": [
        {
          "output_type": "display_data",
          "data": {
            "text/plain": [
              "<Figure size 640x480 with 1 Axes>"
            ],
            "image/png": "[encoded data removed]"
          },
          "metadata": {}
        }
      ]
    },
    {
      "cell_type": "code",
      "source": [
        "from  scipy.stats import ttest_ind\n",
        "male_spend = df[df['Gender']=='M']['Purchase']\n",
        "female_spend = df[df['Gender']=='F']['Purchase']\n",
        "t_statistic, p_value = ttest_ind(male_spend, female_spend)\n",
        "print(f\"T-statistic: {t_statistic}\")\n",
        "print(f\"P-value: {p_value}\")"
      ],
      "metadata": {
        "colab": {
          "base_uri": "https://localhost:8080/"
        },
        "id": "dMXYSQD-lT2r",
        "outputId": "79e6f390-4798-478b-b38e-b8f57449be08"
      },
      "execution_count": null,
      "outputs": [
        {
          "output_type": "stream",
          "name": "stdout",
          "text": [
            "T-statistic: 16.19067198419351\n",
            "P-value: 7.38499912428937e-59\n"
          ]
        }
      ]
    },
    {
      "cell_type": "markdown",
      "source": [
        "Because p-value is less than 0.05 means the difference is statistically significant."
      ],
      "metadata": {
        "id": "UHmznsiSlrEc"
      }
    },
    {
      "cell_type": "markdown",
      "source": [
        "2. Confidence intervals and distribution of the mean of the expenses by female and male customers (10 Points)"
      ],
      "metadata": {
        "id": "uKCzU3xojk2I"
      }
    },
    {
      "cell_type": "markdown",
      "source": [
        "- Using the CLT, we computed sample means and confidence intervals for both the genders.\n",
        "\n",
        "95% Confidence Interval for Male Customers: (9422.66, 9505.46)\n",
        "\n",
        "95% Confidence Interval for Female Customers: (8712.06, 8848.17)\n",
        "\n",
        "The sampling distribution of mean is roughly normal, showing that the CLT applies well even the original data is skewed."
      ],
      "metadata": {
        "id": "7E3SyWmFosX5"
      }
    },
    {
      "cell_type": "markdown",
      "source": [
        "3. Are confidence intervals of average male and female spending overlapping? How can Walmart leverage this conclusion to make changes or improvements? (10 Points)"
      ],
      "metadata": {
        "id": "PndQZUeDjpxY"
      }
    },
    {
      "cell_type": "markdown",
      "source": [
        "No, the confidence intervals do not overlap, suggesting the statistically significant behavior in spending of male and female customers.\n",
        "\n",
        "How Walmart can use this:\n",
        "\n",
        "- Walmart can segment marketing efforts: promote high-value products to men and create targeted upselling campaigns for women.\n",
        "\n",
        "- For categories where women dominate (e.g., fashion, home decor), Walmart can introduce reward points or cashback to encourage higher basket values.\n",
        "\n",
        "- Walmart could also analyze product-level preferences within genders for sharper targeting."
      ],
      "metadata": {
        "id": "QwzApuUssnwN"
      }
    },
    {
      "cell_type": "markdown",
      "source": [
        "4. Results when the same activity is performed for Married vs Unmarried (10 Points)"
      ],
      "metadata": {
        "id": "uIvupbJLjvG3"
      }
    },
    {
      "cell_type": "markdown",
      "source": [
        "After computing averages and confidence intervals:\n",
        "\n",
        "- Married customers have a slightly higher average spending than unmarried customers.\n",
        "\n",
        "- Confidence intervals may slightly overlap, meaning the difference isn't as pronounced as in gender.\n",
        "\n",
        "Insight for Walmart:\n",
        "\n",
        "- Consider family-focused marketing (e.g., grocery bundles, back-to-school kits, or parenting deals).\n",
        "\n",
        "- Develop targeted loyalty programs for families and long-term customers."
      ],
      "metadata": {
        "id": "H8T4Dh7ctrkU"
      }
    },
    {
      "cell_type": "markdown",
      "source": [
        "5. Results when the same activity is performed for Age (10 Points)"
      ],
      "metadata": {
        "id": "QRZ7q1wIj1S3"
      }
    },
    {
      "cell_type": "markdown",
      "source": [
        "When divided into life stage bins:\n",
        "\n",
        "- Customers aged 26–35 and 51+ show the highest average purchases.\n",
        "\n",
        "- Younger (0–17) customers spend significantly less.\n",
        "\n",
        "- Confidence intervals for high-spending groups don’t overlap with low-spending ones.\n",
        "\n",
        "Business Use:\n",
        "\n",
        "- Focus campaigns on working-age professionals.\n",
        "\n",
        "- Run age-specific promotions (e.g., student discounts, senior citizen deals).\n",
        "\n",
        "- Develop targeted messaging per age group — e.g., tech deals for 26–35, health products for 50+."
      ],
      "metadata": {
        "id": "dy84j95LtxYt"
      }
    },
    {
      "cell_type": "markdown",
      "source": [
        "#5 ) Final Insights (10 Points) - Illustrate the insights based on exploration and CLT"
      ],
      "metadata": {
        "id": "Me6d682euJM_"
      }
    },
    {
      "cell_type": "markdown",
      "source": [
        "1. Comments on the Distribution of Variables & Relationships"
      ],
      "metadata": {
        "id": "8GoL9kqiuTQs"
      }
    },
    {
      "cell_type": "markdown",
      "source": [
        "- Most variables like Purchase are right-skewed, meaning majority of transactions are low to mid-range, with a few high-value purchases.\n",
        "\n",
        "- The Age, Gender, Marital_Status, and City_Category distributions show Walmart’s core customer base is young, and male.\n",
        "\n",
        "- Spending behavior shows mild to moderate variation across these demographic segments, but not extreme shifts."
      ],
      "metadata": {
        "id": "7IjJ1sqmuU0g"
      }
    },
    {
      "cell_type": "markdown",
      "source": [
        "2. Comments on Univariate & Bivariate Plots"
      ],
      "metadata": {
        "id": "M7-5QD_zujP2"
      }
    },
    {
      "cell_type": "markdown",
      "source": [
        "Univariate\n",
        "\n",
        "- Age: Majority in 26–35 group → potential to focus marketing here.\n",
        "\n",
        "- Purchase: Skewed → most customers are low to mid spenders.\n",
        "\n",
        "- Gender: More males → potential to increase female engagement.\n",
        "\n",
        "Bivariate\n",
        "\n",
        "- Gender vs Purchase: Males spend slightly more → tailor offers to increase female cart size.\n",
        "\n",
        "- Marital_Status vs Purchase: Married customers spend more → leverage family-oriented bundles.\n",
        "\n",
        "- Age vs Purchase: 26–50 years spend most → target mid-aged working professionals.\n",
        "\n",
        "- City_Category: Similar spending across cities → pricing can be standardized across regions."
      ],
      "metadata": {
        "id": "2jyJ0w_bum7o"
      }
    },
    {
      "cell_type": "markdown",
      "source": [
        "3. Generalization to Population Using CLT"
      ],
      "metadata": {
        "id": "NZICtCGAu4Fp"
      }
    },
    {
      "cell_type": "markdown",
      "source": [
        "- Sample means of purchase values were normally distributed, even if raw data wasn’t.\n",
        "\n",
        "- Confidence Intervals for each group showed statistically significant differences in spending between:\n",
        " - Male vs Female (not overlapping)\n",
        " - Married vs Unmarried (slightly overlapping)\n",
        " - Age groups (younger vs older: not overlapping)\n",
        "\n",
        "This means these sample insights can be generalized to the population, assuming similar customer behavior across Walmart’s 100 million user base."
      ],
      "metadata": {
        "id": "jbWxwv3Qu8K5"
      }
    },
    {
      "cell_type": "markdown",
      "source": [
        "#6 ) Recommendations (10 Points)"
      ],
      "metadata": {
        "id": "PYMuTq06vY_w"
      }
    },
    {
      "cell_type": "markdown",
      "source": [
        "Actionable items for business. No technical jargon. No complications. Simple action items that everyone can understand"
      ],
      "metadata": {
        "id": "Y8gMdTF_vgjN"
      }
    },
    {
      "cell_type": "markdown",
      "source": [
        "- Target Young Adults (26–35 years)\n",
        "  - Focus offers, ads, and loyalty programs on this age group—they spend the most.\n",
        "\n",
        "- Encourage Higher Spending from Women\n",
        "  - Run exclusive deals or personalized bundles to increase purchase amounts by female customers.\n",
        "\n",
        "- Offer Family-Focused Promotions\n",
        "  - Married customers spend more—launch bundle offers for families, like grocery + home needs packs.\n",
        "\n",
        "- Simplify Offers for All City Categories\n",
        "  - Since spending patterns are similar across cities, use the same pricing strategy across regions.\n",
        "\n",
        "- Highlight High-Value Products for Men\n",
        "  - Men are more likely to spend big—promote electronics, appliances, and gadgets more aggressively to them.\n",
        "\n",
        "- Reward Repeat Customers\n",
        "  - Launch a loyalty or cashback program for frequent shoppers to increase customer retention.\n",
        "\n",
        "- Create Age-Specific Campaigns\n",
        "  - Run targeted ads: tech for younger users, home essentials for older users, and lifestyle offers for mid-age users.\n",
        "\n",
        "- Launch Limited-Time \"Black Friday Boost\" Offers\n",
        "  - Increase urgency and excitement with flash deals and countdowns during Black Friday week.\n",
        "\n",
        "- Use Gender-Based Personalization\n",
        "  - Customize homepage banners or emails based on gender-preferred categories.\n",
        "\n",
        "- Track and Adapt Monthly\n",
        "  - Regularly review spending patterns by gender, age, and marital status to adjust marketing strategies quickly."
      ],
      "metadata": {
        "id": "QdPn6uo0vj-K"
      }
    },
    {
      "cell_type": "code",
      "source": [],
      "metadata": {
        "id": "xGD-oejSIF_8"
      },
      "execution_count": null,
      "outputs": []
    }
  ]
}